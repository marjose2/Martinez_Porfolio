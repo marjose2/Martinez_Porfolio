{
 "cells": [
  {
   "cell_type": "markdown",
   "metadata": {
    "_cell_guid": "b1076dfc-b9ad-4769-8c92-a6c4dae69d19",
    "_uuid": "8f2839f25d086af736a60e9eeb907d3b93b6e0e5",
    "papermill": {
     "duration": 0.068515,
     "end_time": "2020-10-16T15:26:16.179937",
     "exception": false,
     "start_time": "2020-10-16T15:26:16.111422",
     "status": "completed"
    },
    "tags": []
   },
   "source": [
    "# Melanoma Classification"
   ]
  },
  {
   "cell_type": "markdown",
   "metadata": {
    "papermill": {
     "duration": 0.062995,
     "end_time": "2020-10-16T15:26:16.306501",
     "exception": false,
     "start_time": "2020-10-16T15:26:16.243506",
     "status": "completed"
    },
    "tags": []
   },
   "source": [
    "# Importing Libraries"
   ]
  },
  {
   "cell_type": "code",
   "execution_count": 1,
   "metadata": {
    "execution": {
     "iopub.execute_input": "2020-10-16T15:26:16.447555Z",
     "iopub.status.busy": "2020-10-16T15:26:16.446783Z",
     "iopub.status.idle": "2020-10-16T15:26:17.747114Z",
     "shell.execute_reply": "2020-10-16T15:26:17.746349Z"
    },
    "papermill": {
     "duration": 1.377094,
     "end_time": "2020-10-16T15:26:17.747256",
     "exception": false,
     "start_time": "2020-10-16T15:26:16.370162",
     "status": "completed"
    },
    "tags": []
   },
   "outputs": [],
   "source": [
    "import numpy as np\n",
    "import pandas as pd\n",
    "import matplotlib.pyplot as plt\n",
    "import seaborn as sns\n",
    "import cv2\n",
    "import pydicom as dicom\n",
    "import pandas as pd\n",
    "import numpy as np\n",
    "from sklearn.metrics import accuracy_score, confusion_matrix\n",
    "from sklearn.metrics import mean_squared_error, r2_score"
   ]
  },
  {
   "cell_type": "markdown",
   "metadata": {
    "papermill": {
     "duration": 0.063212,
     "end_time": "2020-10-16T15:26:17.874968",
     "exception": false,
     "start_time": "2020-10-16T15:26:17.811756",
     "status": "completed"
    },
    "tags": []
   },
   "source": [
    "# Analysing Patient Records"
   ]
  },
  {
   "cell_type": "code",
   "execution_count": 2,
   "metadata": {
    "_cell_guid": "79c7e3d0-c299-4dcb-8224-4455121ee9b0",
    "_uuid": "d629ff2d2480ee46fbb7e2d37f6b5fab8052498a",
    "execution": {
     "iopub.execute_input": "2020-10-16T15:26:18.012753Z",
     "iopub.status.busy": "2020-10-16T15:26:18.011937Z",
     "iopub.status.idle": "2020-10-16T15:26:18.115398Z",
     "shell.execute_reply": "2020-10-16T15:26:18.114785Z"
    },
    "papermill": {
     "duration": 0.177011,
     "end_time": "2020-10-16T15:26:18.115526",
     "exception": false,
     "start_time": "2020-10-16T15:26:17.938515",
     "status": "completed"
    },
    "tags": []
   },
   "outputs": [
    {
     "data": {
      "text/html": [
       "<div>\n",
       "<style scoped>\n",
       "    .dataframe tbody tr th:only-of-type {\n",
       "        vertical-align: middle;\n",
       "    }\n",
       "\n",
       "    .dataframe tbody tr th {\n",
       "        vertical-align: top;\n",
       "    }\n",
       "\n",
       "    .dataframe thead th {\n",
       "        text-align: right;\n",
       "    }\n",
       "</style>\n",
       "<table border=\"1\" class=\"dataframe\">\n",
       "  <thead>\n",
       "    <tr style=\"text-align: right;\">\n",
       "      <th></th>\n",
       "      <th>image_name</th>\n",
       "      <th>patient_id</th>\n",
       "      <th>sex</th>\n",
       "      <th>age_approx</th>\n",
       "      <th>anatom_site_general_challenge</th>\n",
       "      <th>diagnosis</th>\n",
       "      <th>benign_malignant</th>\n",
       "      <th>target</th>\n",
       "    </tr>\n",
       "  </thead>\n",
       "  <tbody>\n",
       "    <tr>\n",
       "      <th>0</th>\n",
       "      <td>ISIC_2637011</td>\n",
       "      <td>IP_7279968</td>\n",
       "      <td>male</td>\n",
       "      <td>45.0</td>\n",
       "      <td>head/neck</td>\n",
       "      <td>unknown</td>\n",
       "      <td>benign</td>\n",
       "      <td>0</td>\n",
       "    </tr>\n",
       "    <tr>\n",
       "      <th>1</th>\n",
       "      <td>ISIC_0015719</td>\n",
       "      <td>IP_3075186</td>\n",
       "      <td>female</td>\n",
       "      <td>45.0</td>\n",
       "      <td>upper extremity</td>\n",
       "      <td>unknown</td>\n",
       "      <td>benign</td>\n",
       "      <td>0</td>\n",
       "    </tr>\n",
       "    <tr>\n",
       "      <th>2</th>\n",
       "      <td>ISIC_0052212</td>\n",
       "      <td>IP_2842074</td>\n",
       "      <td>female</td>\n",
       "      <td>50.0</td>\n",
       "      <td>lower extremity</td>\n",
       "      <td>nevus</td>\n",
       "      <td>benign</td>\n",
       "      <td>0</td>\n",
       "    </tr>\n",
       "    <tr>\n",
       "      <th>3</th>\n",
       "      <td>ISIC_0068279</td>\n",
       "      <td>IP_6890425</td>\n",
       "      <td>female</td>\n",
       "      <td>45.0</td>\n",
       "      <td>head/neck</td>\n",
       "      <td>unknown</td>\n",
       "      <td>benign</td>\n",
       "      <td>0</td>\n",
       "    </tr>\n",
       "    <tr>\n",
       "      <th>4</th>\n",
       "      <td>ISIC_0074268</td>\n",
       "      <td>IP_8723313</td>\n",
       "      <td>female</td>\n",
       "      <td>55.0</td>\n",
       "      <td>upper extremity</td>\n",
       "      <td>unknown</td>\n",
       "      <td>benign</td>\n",
       "      <td>0</td>\n",
       "    </tr>\n",
       "  </tbody>\n",
       "</table>\n",
       "</div>"
      ],
      "text/plain": [
       "     image_name  patient_id     sex  age_approx anatom_site_general_challenge  \\\n",
       "0  ISIC_2637011  IP_7279968    male        45.0                     head/neck   \n",
       "1  ISIC_0015719  IP_3075186  female        45.0               upper extremity   \n",
       "2  ISIC_0052212  IP_2842074  female        50.0               lower extremity   \n",
       "3  ISIC_0068279  IP_6890425  female        45.0                     head/neck   \n",
       "4  ISIC_0074268  IP_8723313  female        55.0               upper extremity   \n",
       "\n",
       "  diagnosis benign_malignant  target  \n",
       "0   unknown           benign       0  \n",
       "1   unknown           benign       0  \n",
       "2     nevus           benign       0  \n",
       "3   unknown           benign       0  \n",
       "4   unknown           benign       0  "
      ]
     },
     "execution_count": 2,
     "metadata": {},
     "output_type": "execute_result"
    }
   ],
   "source": [
    "df = pd.read_csv('melanoma-classification/train.csv')\n",
    "df.head()"
   ]
  },
  {
   "cell_type": "code",
   "execution_count": 3,
   "metadata": {
    "execution": {
     "iopub.execute_input": "2020-10-16T15:26:18.251909Z",
     "iopub.status.busy": "2020-10-16T15:26:18.251175Z",
     "iopub.status.idle": "2020-10-16T15:26:18.264346Z",
     "shell.execute_reply": "2020-10-16T15:26:18.263600Z"
    },
    "papermill": {
     "duration": 0.083945,
     "end_time": "2020-10-16T15:26:18.264468",
     "exception": false,
     "start_time": "2020-10-16T15:26:18.180523",
     "status": "completed"
    },
    "tags": []
   },
   "outputs": [],
   "source": [
    "df = df.rename(columns = {'anatom_site_general_challenge':'site'})"
   ]
  },
  {
   "cell_type": "code",
   "execution_count": 4,
   "metadata": {
    "execution": {
     "iopub.execute_input": "2020-10-16T15:26:18.411450Z",
     "iopub.status.busy": "2020-10-16T15:26:18.410548Z",
     "iopub.status.idle": "2020-10-16T15:26:18.415307Z",
     "shell.execute_reply": "2020-10-16T15:26:18.414697Z"
    },
    "papermill": {
     "duration": 0.08609,
     "end_time": "2020-10-16T15:26:18.415426",
     "exception": false,
     "start_time": "2020-10-16T15:26:18.329336",
     "status": "completed"
    },
    "tags": []
   },
   "outputs": [
    {
     "data": {
      "text/html": [
       "<div>\n",
       "<style scoped>\n",
       "    .dataframe tbody tr th:only-of-type {\n",
       "        vertical-align: middle;\n",
       "    }\n",
       "\n",
       "    .dataframe tbody tr th {\n",
       "        vertical-align: top;\n",
       "    }\n",
       "\n",
       "    .dataframe thead th {\n",
       "        text-align: right;\n",
       "    }\n",
       "</style>\n",
       "<table border=\"1\" class=\"dataframe\">\n",
       "  <thead>\n",
       "    <tr style=\"text-align: right;\">\n",
       "      <th></th>\n",
       "      <th>image_name</th>\n",
       "      <th>patient_id</th>\n",
       "      <th>sex</th>\n",
       "      <th>age_approx</th>\n",
       "      <th>site</th>\n",
       "      <th>diagnosis</th>\n",
       "      <th>benign_malignant</th>\n",
       "      <th>target</th>\n",
       "    </tr>\n",
       "  </thead>\n",
       "  <tbody>\n",
       "    <tr>\n",
       "      <th>0</th>\n",
       "      <td>ISIC_2637011</td>\n",
       "      <td>IP_7279968</td>\n",
       "      <td>male</td>\n",
       "      <td>45.0</td>\n",
       "      <td>head/neck</td>\n",
       "      <td>unknown</td>\n",
       "      <td>benign</td>\n",
       "      <td>0</td>\n",
       "    </tr>\n",
       "    <tr>\n",
       "      <th>1</th>\n",
       "      <td>ISIC_0015719</td>\n",
       "      <td>IP_3075186</td>\n",
       "      <td>female</td>\n",
       "      <td>45.0</td>\n",
       "      <td>upper extremity</td>\n",
       "      <td>unknown</td>\n",
       "      <td>benign</td>\n",
       "      <td>0</td>\n",
       "    </tr>\n",
       "    <tr>\n",
       "      <th>2</th>\n",
       "      <td>ISIC_0052212</td>\n",
       "      <td>IP_2842074</td>\n",
       "      <td>female</td>\n",
       "      <td>50.0</td>\n",
       "      <td>lower extremity</td>\n",
       "      <td>nevus</td>\n",
       "      <td>benign</td>\n",
       "      <td>0</td>\n",
       "    </tr>\n",
       "    <tr>\n",
       "      <th>3</th>\n",
       "      <td>ISIC_0068279</td>\n",
       "      <td>IP_6890425</td>\n",
       "      <td>female</td>\n",
       "      <td>45.0</td>\n",
       "      <td>head/neck</td>\n",
       "      <td>unknown</td>\n",
       "      <td>benign</td>\n",
       "      <td>0</td>\n",
       "    </tr>\n",
       "    <tr>\n",
       "      <th>4</th>\n",
       "      <td>ISIC_0074268</td>\n",
       "      <td>IP_8723313</td>\n",
       "      <td>female</td>\n",
       "      <td>55.0</td>\n",
       "      <td>upper extremity</td>\n",
       "      <td>unknown</td>\n",
       "      <td>benign</td>\n",
       "      <td>0</td>\n",
       "    </tr>\n",
       "  </tbody>\n",
       "</table>\n",
       "</div>"
      ],
      "text/plain": [
       "     image_name  patient_id     sex  age_approx             site diagnosis  \\\n",
       "0  ISIC_2637011  IP_7279968    male        45.0        head/neck   unknown   \n",
       "1  ISIC_0015719  IP_3075186  female        45.0  upper extremity   unknown   \n",
       "2  ISIC_0052212  IP_2842074  female        50.0  lower extremity     nevus   \n",
       "3  ISIC_0068279  IP_6890425  female        45.0        head/neck   unknown   \n",
       "4  ISIC_0074268  IP_8723313  female        55.0  upper extremity   unknown   \n",
       "\n",
       "  benign_malignant  target  \n",
       "0           benign       0  \n",
       "1           benign       0  \n",
       "2           benign       0  \n",
       "3           benign       0  \n",
       "4           benign       0  "
      ]
     },
     "execution_count": 4,
     "metadata": {},
     "output_type": "execute_result"
    }
   ],
   "source": [
    "df.head()"
   ]
  },
  {
   "cell_type": "code",
   "execution_count": 5,
   "metadata": {
    "execution": {
     "iopub.execute_input": "2020-10-16T15:26:18.552474Z",
     "iopub.status.busy": "2020-10-16T15:26:18.551599Z",
     "iopub.status.idle": "2020-10-16T15:26:18.555928Z",
     "shell.execute_reply": "2020-10-16T15:26:18.555368Z"
    },
    "papermill": {
     "duration": 0.074578,
     "end_time": "2020-10-16T15:26:18.556047",
     "exception": false,
     "start_time": "2020-10-16T15:26:18.481469",
     "status": "completed"
    },
    "tags": []
   },
   "outputs": [
    {
     "data": {
      "text/plain": [
       "(33126, 8)"
      ]
     },
     "execution_count": 5,
     "metadata": {},
     "output_type": "execute_result"
    }
   ],
   "source": [
    "df.shape"
   ]
  },
  {
   "cell_type": "code",
   "execution_count": 6,
   "metadata": {
    "execution": {
     "iopub.execute_input": "2020-10-16T15:26:18.714926Z",
     "iopub.status.busy": "2020-10-16T15:26:18.713851Z",
     "iopub.status.idle": "2020-10-16T15:26:18.721413Z",
     "shell.execute_reply": "2020-10-16T15:26:18.721945Z"
    },
    "papermill": {
     "duration": 0.100027,
     "end_time": "2020-10-16T15:26:18.722102",
     "exception": false,
     "start_time": "2020-10-16T15:26:18.622075",
     "status": "completed"
    },
    "tags": []
   },
   "outputs": [
    {
     "data": {
      "text/plain": [
       "image_name            0\n",
       "patient_id            0\n",
       "sex                  65\n",
       "age_approx           68\n",
       "site                527\n",
       "diagnosis             0\n",
       "benign_malignant      0\n",
       "target                0\n",
       "dtype: int64"
      ]
     },
     "execution_count": 6,
     "metadata": {},
     "output_type": "execute_result"
    }
   ],
   "source": [
    "df.isnull().sum()"
   ]
  },
  {
   "cell_type": "code",
   "execution_count": 7,
   "metadata": {
    "execution": {
     "iopub.execute_input": "2020-10-16T15:26:18.883423Z",
     "iopub.status.busy": "2020-10-16T15:26:18.882309Z",
     "iopub.status.idle": "2020-10-16T15:26:18.894087Z",
     "shell.execute_reply": "2020-10-16T15:26:18.893334Z"
    },
    "papermill": {
     "duration": 0.104797,
     "end_time": "2020-10-16T15:26:18.894216",
     "exception": false,
     "start_time": "2020-10-16T15:26:18.789419",
     "status": "completed"
    },
    "tags": []
   },
   "outputs": [],
   "source": [
    "df = df.dropna(axis=0, how = 'any')"
   ]
  },
  {
   "cell_type": "code",
   "execution_count": 8,
   "metadata": {
    "execution": {
     "iopub.execute_input": "2020-10-16T15:26:19.056759Z",
     "iopub.status.busy": "2020-10-16T15:26:19.056001Z",
     "iopub.status.idle": "2020-10-16T15:26:19.063667Z",
     "shell.execute_reply": "2020-10-16T15:26:19.064243Z"
    },
    "papermill": {
     "duration": 0.102565,
     "end_time": "2020-10-16T15:26:19.064392",
     "exception": false,
     "start_time": "2020-10-16T15:26:18.961827",
     "status": "completed"
    },
    "tags": []
   },
   "outputs": [
    {
     "data": {
      "text/plain": [
       "image_name          0\n",
       "patient_id          0\n",
       "sex                 0\n",
       "age_approx          0\n",
       "site                0\n",
       "diagnosis           0\n",
       "benign_malignant    0\n",
       "target              0\n",
       "dtype: int64"
      ]
     },
     "execution_count": 8,
     "metadata": {},
     "output_type": "execute_result"
    }
   ],
   "source": [
    "df.isnull().sum()"
   ]
  },
  {
   "cell_type": "code",
   "execution_count": 9,
   "metadata": {
    "execution": {
     "iopub.execute_input": "2020-10-16T15:26:19.205529Z",
     "iopub.status.busy": "2020-10-16T15:26:19.204553Z",
     "iopub.status.idle": "2020-10-16T15:26:19.209336Z",
     "shell.execute_reply": "2020-10-16T15:26:19.208558Z"
    },
    "papermill": {
     "duration": 0.077622,
     "end_time": "2020-10-16T15:26:19.209459",
     "exception": false,
     "start_time": "2020-10-16T15:26:19.131837",
     "status": "completed"
    },
    "tags": []
   },
   "outputs": [
    {
     "data": {
      "text/plain": [
       "(32531, 8)"
      ]
     },
     "execution_count": 9,
     "metadata": {},
     "output_type": "execute_result"
    }
   ],
   "source": [
    "df.shape"
   ]
  },
  {
   "cell_type": "code",
   "execution_count": 10,
   "metadata": {
    "execution": {
     "iopub.execute_input": "2020-10-16T15:26:19.353890Z",
     "iopub.status.busy": "2020-10-16T15:26:19.353153Z",
     "iopub.status.idle": "2020-10-16T15:26:19.575501Z",
     "shell.execute_reply": "2020-10-16T15:26:19.574850Z"
    },
    "papermill": {
     "duration": 0.29835,
     "end_time": "2020-10-16T15:26:19.575633",
     "exception": false,
     "start_time": "2020-10-16T15:26:19.277283",
     "status": "completed"
    },
    "tags": []
   },
   "outputs": [
    {
     "data": {
      "text/plain": [
       "<matplotlib.axes._subplots.AxesSubplot at 0x7fc15f6afb10>"
      ]
     },
     "execution_count": 10,
     "metadata": {},
     "output_type": "execute_result"
    },
    {
     "data": {
      "image/png": "[encoded data removed]",
      "text/plain": [
       "<Figure size 432x288 with 1 Axes>"
      ]
     },
     "metadata": {
      "needs_background": "light"
     },
     "output_type": "display_data"
    }
   ],
   "source": [
    "sns.countplot(x = 'sex', data = df, hue = 'target')"
   ]
  },
  {
   "cell_type": "code",
   "execution_count": 11,
   "metadata": {
    "execution": {
     "iopub.execute_input": "2020-10-16T15:26:19.726359Z",
     "iopub.status.busy": "2020-10-16T15:26:19.725176Z",
     "iopub.status.idle": "2020-10-16T15:26:19.996654Z",
     "shell.execute_reply": "2020-10-16T15:26:19.995621Z"
    },
    "papermill": {
     "duration": 0.351618,
     "end_time": "2020-10-16T15:26:19.996820",
     "exception": false,
     "start_time": "2020-10-16T15:26:19.645202",
     "status": "completed"
    },
    "tags": []
   },
   "outputs": [
    {
     "data": {
      "text/plain": [
       "<matplotlib.axes._subplots.AxesSubplot at 0x7fc15f6cea50>"
      ]
     },
     "execution_count": 11,
     "metadata": {},
     "output_type": "execute_result"
    },
    {
     "data": {
      "image/png": "[encoded data removed]",
      "text/plain": [
       "<Figure size 432x288 with 1 Axes>"
      ]
     },
     "metadata": {
      "needs_background": "light"
     },
     "output_type": "display_data"
    }
   ],
   "source": [
    "sns.distplot(df['age_approx'])"
   ]
  },
  {
   "cell_type": "code",
   "execution_count": 12,
   "metadata": {
    "execution": {
     "iopub.execute_input": "2020-10-16T15:26:20.215831Z",
     "iopub.status.busy": "2020-10-16T15:26:20.200410Z",
     "iopub.status.idle": "2020-10-16T15:26:21.059805Z",
     "shell.execute_reply": "2020-10-16T15:26:21.059085Z"
    },
    "papermill": {
     "duration": 0.978399,
     "end_time": "2020-10-16T15:26:21.059963",
     "exception": false,
     "start_time": "2020-10-16T15:26:20.081564",
     "status": "completed"
    },
    "tags": []
   },
   "outputs": [],
   "source": [
    "age = []\n",
    "sex = []\n",
    "for i in range(df.shape[0]):\n",
    "    try: \n",
    "        if df['target'][i] == 1:\n",
    "            age.append(df['age_approx'][i]) \n",
    "            sex.append(df['sex'][i])\n",
    "    except:\n",
    "        pass"
   ]
  },
  {
   "cell_type": "code",
   "execution_count": 13,
   "metadata": {
    "execution": {
     "iopub.execute_input": "2020-10-16T15:26:21.295401Z",
     "iopub.status.busy": "2020-10-16T15:26:21.290956Z",
     "iopub.status.idle": "2020-10-16T15:26:21.710043Z",
     "shell.execute_reply": "2020-10-16T15:26:21.709375Z"
    },
    "papermill": {
     "duration": 0.578114,
     "end_time": "2020-10-16T15:26:21.710162",
     "exception": false,
     "start_time": "2020-10-16T15:26:21.132048",
     "status": "completed"
    },
    "tags": []
   },
   "outputs": [
    {
     "data": {
      "text/plain": [
       "Text(0.5, 1.0, 'Count plot of age of people having malignant cancer')"
      ]
     },
     "execution_count": 13,
     "metadata": {},
     "output_type": "execute_result"
    },
    {
     "data": {
      "image/png": "[encoded data removed]",
      "text/plain": [
       "<Figure size 1080x360 with 2 Axes>"
      ]
     },
     "metadata": {
      "needs_background": "light"
     },
     "output_type": "display_data"
    }
   ],
   "source": [
    "plt.figure(figsize=(15,5))\n",
    "\n",
    "plt.subplot(1,2,1)\n",
    "sns.distplot(age)\n",
    "plt.title('Distribution of age of people having malignant cancer')\n",
    "\n",
    "plt.subplot(1,2,2)\n",
    "sns.countplot(y = age)\n",
    "plt.ylabel('Age')\n",
    "plt.title('Count plot of age of people having malignant cancer')"
   ]
  },
  {
   "cell_type": "code",
   "execution_count": 14,
   "metadata": {
    "execution": {
     "iopub.execute_input": "2020-10-16T15:26:21.864205Z",
     "iopub.status.busy": "2020-10-16T15:26:21.863480Z",
     "iopub.status.idle": "2020-10-16T15:26:22.097605Z",
     "shell.execute_reply": "2020-10-16T15:26:22.098182Z"
    },
    "papermill": {
     "duration": 0.315323,
     "end_time": "2020-10-16T15:26:22.098335",
     "exception": false,
     "start_time": "2020-10-16T15:26:21.783012",
     "status": "completed"
    },
    "tags": []
   },
   "outputs": [
    {
     "data": {
      "text/plain": [
       "(array([0, 1, 2, 3, 4, 5]), <a list of 6 Text major ticklabel objects>)"
      ]
     },
     "execution_count": 14,
     "metadata": {},
     "output_type": "execute_result"
    },
    {
     "data": {
      "image/png": "[encoded data removed]",
      "text/plain": [
       "<Figure size 432x288 with 1 Axes>"
      ]
     },
     "metadata": {
      "needs_background": "light"
     },
     "output_type": "display_data"
    }
   ],
   "source": [
    "sns.countplot(x='site', data=df, hue='target')\n",
    "plt.xticks(rotation='90')"
   ]
  },
  {
   "cell_type": "code",
   "execution_count": 15,
   "metadata": {
    "execution": {
     "iopub.execute_input": "2020-10-16T15:26:22.277364Z",
     "iopub.status.busy": "2020-10-16T15:26:22.256542Z",
     "iopub.status.idle": "2020-10-16T15:26:23.133942Z",
     "shell.execute_reply": "2020-10-16T15:26:23.133322Z"
    },
    "papermill": {
     "duration": 0.960659,
     "end_time": "2020-10-16T15:26:23.134076",
     "exception": false,
     "start_time": "2020-10-16T15:26:22.173417",
     "status": "completed"
    },
    "tags": []
   },
   "outputs": [],
   "source": [
    "site = []\n",
    "for i in range(df.shape[0]):\n",
    "    try: \n",
    "        if df['target'][i] == 1:\n",
    "            site.append(df['site'][i]) \n",
    "    except:\n",
    "        pass\n",
    "    "
   ]
  },
  {
   "cell_type": "code",
   "execution_count": 16,
   "metadata": {
    "execution": {
     "iopub.execute_input": "2020-10-16T15:26:23.310532Z",
     "iopub.status.busy": "2020-10-16T15:26:23.309786Z",
     "iopub.status.idle": "2020-10-16T15:26:23.464998Z",
     "shell.execute_reply": "2020-10-16T15:26:23.464422Z"
    },
    "papermill": {
     "duration": 0.25537,
     "end_time": "2020-10-16T15:26:23.465121",
     "exception": false,
     "start_time": "2020-10-16T15:26:23.209751",
     "status": "completed"
    },
    "tags": []
   },
   "outputs": [
    {
     "data": {
      "text/plain": [
       "Text(0, 0.5, 'Site')"
      ]
     },
     "execution_count": 16,
     "metadata": {},
     "output_type": "execute_result"
    },
    {
     "data": {
      "image/png": "[encoded data removed]",
      "text/plain": [
       "<Figure size 432x288 with 1 Axes>"
      ]
     },
     "metadata": {
      "needs_background": "light"
     },
     "output_type": "display_data"
    }
   ],
   "source": [
    "sns.countplot(y = site,palette=\"rocket\")\n",
    "plt.title('Graph showing count of patients having cancer and the site it is located in')\n",
    "plt.ylabel('Site')"
   ]
  },
  {
   "cell_type": "code",
   "execution_count": 17,
   "metadata": {
    "execution": {
     "iopub.execute_input": "2020-10-16T15:26:23.637638Z",
     "iopub.status.busy": "2020-10-16T15:26:23.632515Z",
     "iopub.status.idle": "2020-10-16T15:26:24.515621Z",
     "shell.execute_reply": "2020-10-16T15:26:24.514805Z"
    },
    "papermill": {
     "duration": 0.973946,
     "end_time": "2020-10-16T15:26:24.515755",
     "exception": false,
     "start_time": "2020-10-16T15:26:23.541809",
     "status": "completed"
    },
    "tags": []
   },
   "outputs": [],
   "source": [
    "diagnosis = []\n",
    "for i in range(df.shape[0]):\n",
    "    try: \n",
    "        if df['target'][i] == 1:\n",
    "            diagnosis.append(df['diagnosis'][i]) \n",
    "    except:\n",
    "        pass\n",
    "    "
   ]
  },
  {
   "cell_type": "code",
   "execution_count": 18,
   "metadata": {
    "execution": {
     "iopub.execute_input": "2020-10-16T15:26:24.695111Z",
     "iopub.status.busy": "2020-10-16T15:26:24.680919Z",
     "iopub.status.idle": "2020-10-16T15:26:24.794658Z",
     "shell.execute_reply": "2020-10-16T15:26:24.793950Z"
    },
    "papermill": {
     "duration": 0.202075,
     "end_time": "2020-10-16T15:26:24.794774",
     "exception": false,
     "start_time": "2020-10-16T15:26:24.592699",
     "status": "completed"
    },
    "tags": []
   },
   "outputs": [
    {
     "data": {
      "text/plain": [
       "<matplotlib.axes._subplots.AxesSubplot at 0x7fc15f175c50>"
      ]
     },
     "execution_count": 18,
     "metadata": {},
     "output_type": "execute_result"
    },
    {
     "data": {
      "image/png": "[encoded data removed]",
      "text/plain": [
       "<Figure size 432x288 with 1 Axes>"
      ]
     },
     "metadata": {
      "needs_background": "light"
     },
     "output_type": "display_data"
    }
   ],
   "source": [
    "sns.countplot(y = diagnosis)"
   ]
  },
  {
   "cell_type": "code",
   "execution_count": 19,
   "metadata": {
    "execution": {
     "iopub.execute_input": "2020-10-16T15:26:24.957700Z",
     "iopub.status.busy": "2020-10-16T15:26:24.956710Z",
     "iopub.status.idle": "2020-10-16T15:26:24.962088Z",
     "shell.execute_reply": "2020-10-16T15:26:24.962593Z"
    },
    "papermill": {
     "duration": 0.090332,
     "end_time": "2020-10-16T15:26:24.962741",
     "exception": false,
     "start_time": "2020-10-16T15:26:24.872409",
     "status": "completed"
    },
    "tags": []
   },
   "outputs": [
    {
     "data": {
      "text/plain": [
       "array(['male', 'female'], dtype=object)"
      ]
     },
     "execution_count": 19,
     "metadata": {},
     "output_type": "execute_result"
    }
   ],
   "source": [
    "df.sex.unique()"
   ]
  },
  {
   "cell_type": "code",
   "execution_count": 20,
   "metadata": {
    "execution": {
     "iopub.execute_input": "2020-10-16T15:26:25.129355Z",
     "iopub.status.busy": "2020-10-16T15:26:25.128412Z",
     "iopub.status.idle": "2020-10-16T15:26:25.134922Z",
     "shell.execute_reply": "2020-10-16T15:26:25.134183Z"
    },
    "papermill": {
     "duration": 0.092683,
     "end_time": "2020-10-16T15:26:25.135043",
     "exception": false,
     "start_time": "2020-10-16T15:26:25.042360",
     "status": "completed"
    },
    "tags": []
   },
   "outputs": [
    {
     "data": {
      "text/plain": [
       "array(['head/neck', 'upper extremity', 'lower extremity', 'torso',\n",
       "       'palms/soles', 'oral/genital'], dtype=object)"
      ]
     },
     "execution_count": 20,
     "metadata": {},
     "output_type": "execute_result"
    }
   ],
   "source": [
    "df.site.unique()"
   ]
  },
  {
   "cell_type": "code",
   "execution_count": 21,
   "metadata": {
    "execution": {
     "iopub.execute_input": "2020-10-16T15:26:25.300531Z",
     "iopub.status.busy": "2020-10-16T15:26:25.299561Z",
     "iopub.status.idle": "2020-10-16T15:26:25.304855Z",
     "shell.execute_reply": "2020-10-16T15:26:25.305397Z"
    },
    "papermill": {
     "duration": 0.091536,
     "end_time": "2020-10-16T15:26:25.305548",
     "exception": false,
     "start_time": "2020-10-16T15:26:25.214012",
     "status": "completed"
    },
    "tags": []
   },
   "outputs": [
    {
     "data": {
      "text/plain": [
       "array(['unknown', 'nevus', 'melanoma', 'seborrheic keratosis',\n",
       "       'lentigo NOS', 'lichenoid keratosis', 'solar lentigo',\n",
       "       'cafe-au-lait macule', 'atypical melanocytic proliferation'],\n",
       "      dtype=object)"
      ]
     },
     "execution_count": 21,
     "metadata": {},
     "output_type": "execute_result"
    }
   ],
   "source": [
    "df.diagnosis.unique()"
   ]
  },
  {
   "cell_type": "code",
   "execution_count": 22,
   "metadata": {
    "execution": {
     "iopub.execute_input": "2020-10-16T15:26:25.474134Z",
     "iopub.status.busy": "2020-10-16T15:26:25.472832Z",
     "iopub.status.idle": "2020-10-16T15:26:25.504919Z",
     "shell.execute_reply": "2020-10-16T15:26:25.504193Z"
    },
    "papermill": {
     "duration": 0.11975,
     "end_time": "2020-10-16T15:26:25.505041",
     "exception": false,
     "start_time": "2020-10-16T15:26:25.385291",
     "status": "completed"
    },
    "tags": []
   },
   "outputs": [
    {
     "data": {
      "text/html": [
       "<div>\n",
       "<style scoped>\n",
       "    .dataframe tbody tr th:only-of-type {\n",
       "        vertical-align: middle;\n",
       "    }\n",
       "\n",
       "    .dataframe tbody tr th {\n",
       "        vertical-align: top;\n",
       "    }\n",
       "\n",
       "    .dataframe thead th {\n",
       "        text-align: right;\n",
       "    }\n",
       "</style>\n",
       "<table border=\"1\" class=\"dataframe\">\n",
       "  <thead>\n",
       "    <tr style=\"text-align: right;\">\n",
       "      <th></th>\n",
       "      <th>image_name</th>\n",
       "      <th>patient_id</th>\n",
       "      <th>age_approx</th>\n",
       "      <th>site</th>\n",
       "      <th>diagnosis</th>\n",
       "      <th>benign_malignant</th>\n",
       "      <th>target</th>\n",
       "      <th>sex_male</th>\n",
       "    </tr>\n",
       "  </thead>\n",
       "  <tbody>\n",
       "    <tr>\n",
       "      <th>0</th>\n",
       "      <td>ISIC_2637011</td>\n",
       "      <td>IP_7279968</td>\n",
       "      <td>45.0</td>\n",
       "      <td>head/neck</td>\n",
       "      <td>unknown</td>\n",
       "      <td>benign</td>\n",
       "      <td>0</td>\n",
       "      <td>1</td>\n",
       "    </tr>\n",
       "    <tr>\n",
       "      <th>1</th>\n",
       "      <td>ISIC_0015719</td>\n",
       "      <td>IP_3075186</td>\n",
       "      <td>45.0</td>\n",
       "      <td>upper extremity</td>\n",
       "      <td>unknown</td>\n",
       "      <td>benign</td>\n",
       "      <td>0</td>\n",
       "      <td>0</td>\n",
       "    </tr>\n",
       "    <tr>\n",
       "      <th>2</th>\n",
       "      <td>ISIC_0052212</td>\n",
       "      <td>IP_2842074</td>\n",
       "      <td>50.0</td>\n",
       "      <td>lower extremity</td>\n",
       "      <td>nevus</td>\n",
       "      <td>benign</td>\n",
       "      <td>0</td>\n",
       "      <td>0</td>\n",
       "    </tr>\n",
       "    <tr>\n",
       "      <th>3</th>\n",
       "      <td>ISIC_0068279</td>\n",
       "      <td>IP_6890425</td>\n",
       "      <td>45.0</td>\n",
       "      <td>head/neck</td>\n",
       "      <td>unknown</td>\n",
       "      <td>benign</td>\n",
       "      <td>0</td>\n",
       "      <td>0</td>\n",
       "    </tr>\n",
       "    <tr>\n",
       "      <th>4</th>\n",
       "      <td>ISIC_0074268</td>\n",
       "      <td>IP_8723313</td>\n",
       "      <td>55.0</td>\n",
       "      <td>upper extremity</td>\n",
       "      <td>unknown</td>\n",
       "      <td>benign</td>\n",
       "      <td>0</td>\n",
       "      <td>0</td>\n",
       "    </tr>\n",
       "  </tbody>\n",
       "</table>\n",
       "</div>"
      ],
      "text/plain": [
       "     image_name  patient_id  age_approx             site diagnosis  \\\n",
       "0  ISIC_2637011  IP_7279968        45.0        head/neck   unknown   \n",
       "1  ISIC_0015719  IP_3075186        45.0  upper extremity   unknown   \n",
       "2  ISIC_0052212  IP_2842074        50.0  lower extremity     nevus   \n",
       "3  ISIC_0068279  IP_6890425        45.0        head/neck   unknown   \n",
       "4  ISIC_0074268  IP_8723313        55.0  upper extremity   unknown   \n",
       "\n",
       "  benign_malignant  target  sex_male  \n",
       "0           benign       0         1  \n",
       "1           benign       0         0  \n",
       "2           benign       0         0  \n",
       "3           benign       0         0  \n",
       "4           benign       0         0  "
      ]
     },
     "execution_count": 22,
     "metadata": {},
     "output_type": "execute_result"
    }
   ],
   "source": [
    "df = pd.get_dummies(df, columns = ['sex'],drop_first=True)\n",
    "df.head()"
   ]
  },
  {
   "cell_type": "code",
   "execution_count": 23,
   "metadata": {
    "execution": {
     "iopub.execute_input": "2020-10-16T15:26:25.677423Z",
     "iopub.status.busy": "2020-10-16T15:26:25.673548Z",
     "iopub.status.idle": "2020-10-16T15:26:25.705607Z",
     "shell.execute_reply": "2020-10-16T15:26:25.704844Z"
    },
    "papermill": {
     "duration": 0.120002,
     "end_time": "2020-10-16T15:26:25.705730",
     "exception": false,
     "start_time": "2020-10-16T15:26:25.585728",
     "status": "completed"
    },
    "tags": []
   },
   "outputs": [
    {
     "data": {
      "text/html": [
       "<div>\n",
       "<style scoped>\n",
       "    .dataframe tbody tr th:only-of-type {\n",
       "        vertical-align: middle;\n",
       "    }\n",
       "\n",
       "    .dataframe tbody tr th {\n",
       "        vertical-align: top;\n",
       "    }\n",
       "\n",
       "    .dataframe thead th {\n",
       "        text-align: right;\n",
       "    }\n",
       "</style>\n",
       "<table border=\"1\" class=\"dataframe\">\n",
       "  <thead>\n",
       "    <tr style=\"text-align: right;\">\n",
       "      <th></th>\n",
       "      <th>image_name</th>\n",
       "      <th>patient_id</th>\n",
       "      <th>age_approx</th>\n",
       "      <th>diagnosis</th>\n",
       "      <th>benign_malignant</th>\n",
       "      <th>target</th>\n",
       "      <th>sex_male</th>\n",
       "      <th>site_lower extremity</th>\n",
       "      <th>site_oral/genital</th>\n",
       "      <th>site_palms/soles</th>\n",
       "      <th>site_torso</th>\n",
       "      <th>site_upper extremity</th>\n",
       "    </tr>\n",
       "  </thead>\n",
       "  <tbody>\n",
       "    <tr>\n",
       "      <th>0</th>\n",
       "      <td>ISIC_2637011</td>\n",
       "      <td>IP_7279968</td>\n",
       "      <td>45.0</td>\n",
       "      <td>unknown</td>\n",
       "      <td>benign</td>\n",
       "      <td>0</td>\n",
       "      <td>1</td>\n",
       "      <td>0</td>\n",
       "      <td>0</td>\n",
       "      <td>0</td>\n",
       "      <td>0</td>\n",
       "      <td>0</td>\n",
       "    </tr>\n",
       "    <tr>\n",
       "      <th>1</th>\n",
       "      <td>ISIC_0015719</td>\n",
       "      <td>IP_3075186</td>\n",
       "      <td>45.0</td>\n",
       "      <td>unknown</td>\n",
       "      <td>benign</td>\n",
       "      <td>0</td>\n",
       "      <td>0</td>\n",
       "      <td>0</td>\n",
       "      <td>0</td>\n",
       "      <td>0</td>\n",
       "      <td>0</td>\n",
       "      <td>1</td>\n",
       "    </tr>\n",
       "    <tr>\n",
       "      <th>2</th>\n",
       "      <td>ISIC_0052212</td>\n",
       "      <td>IP_2842074</td>\n",
       "      <td>50.0</td>\n",
       "      <td>nevus</td>\n",
       "      <td>benign</td>\n",
       "      <td>0</td>\n",
       "      <td>0</td>\n",
       "      <td>1</td>\n",
       "      <td>0</td>\n",
       "      <td>0</td>\n",
       "      <td>0</td>\n",
       "      <td>0</td>\n",
       "    </tr>\n",
       "    <tr>\n",
       "      <th>3</th>\n",
       "      <td>ISIC_0068279</td>\n",
       "      <td>IP_6890425</td>\n",
       "      <td>45.0</td>\n",
       "      <td>unknown</td>\n",
       "      <td>benign</td>\n",
       "      <td>0</td>\n",
       "      <td>0</td>\n",
       "      <td>0</td>\n",
       "      <td>0</td>\n",
       "      <td>0</td>\n",
       "      <td>0</td>\n",
       "      <td>0</td>\n",
       "    </tr>\n",
       "    <tr>\n",
       "      <th>4</th>\n",
       "      <td>ISIC_0074268</td>\n",
       "      <td>IP_8723313</td>\n",
       "      <td>55.0</td>\n",
       "      <td>unknown</td>\n",
       "      <td>benign</td>\n",
       "      <td>0</td>\n",
       "      <td>0</td>\n",
       "      <td>0</td>\n",
       "      <td>0</td>\n",
       "      <td>0</td>\n",
       "      <td>0</td>\n",
       "      <td>1</td>\n",
       "    </tr>\n",
       "  </tbody>\n",
       "</table>\n",
       "</div>"
      ],
      "text/plain": [
       "     image_name  patient_id  age_approx diagnosis benign_malignant  target  \\\n",
       "0  ISIC_2637011  IP_7279968        45.0   unknown           benign       0   \n",
       "1  ISIC_0015719  IP_3075186        45.0   unknown           benign       0   \n",
       "2  ISIC_0052212  IP_2842074        50.0     nevus           benign       0   \n",
       "3  ISIC_0068279  IP_6890425        45.0   unknown           benign       0   \n",
       "4  ISIC_0074268  IP_8723313        55.0   unknown           benign       0   \n",
       "\n",
       "   sex_male  site_lower extremity  site_oral/genital  site_palms/soles  \\\n",
       "0         1                     0                  0                 0   \n",
       "1         0                     0                  0                 0   \n",
       "2         0                     1                  0                 0   \n",
       "3         0                     0                  0                 0   \n",
       "4         0                     0                  0                 0   \n",
       "\n",
       "   site_torso  site_upper extremity  \n",
       "0           0                     0  \n",
       "1           0                     1  \n",
       "2           0                     0  \n",
       "3           0                     0  \n",
       "4           0                     1  "
      ]
     },
     "execution_count": 23,
     "metadata": {},
     "output_type": "execute_result"
    }
   ],
   "source": [
    "df = pd.get_dummies(df, columns = ['site'],drop_first=True)\n",
    "df.head()"
   ]
  },
  {
   "cell_type": "code",
   "execution_count": 24,
   "metadata": {
    "execution": {
     "iopub.execute_input": "2020-10-16T15:26:25.877701Z",
     "iopub.status.busy": "2020-10-16T15:26:25.876597Z",
     "iopub.status.idle": "2020-10-16T15:26:25.893408Z",
     "shell.execute_reply": "2020-10-16T15:26:25.892643Z"
    },
    "papermill": {
     "duration": 0.106317,
     "end_time": "2020-10-16T15:26:25.893533",
     "exception": false,
     "start_time": "2020-10-16T15:26:25.787216",
     "status": "completed"
    },
    "tags": []
   },
   "outputs": [],
   "source": [
    "df = pd.get_dummies(df, columns = ['diagnosis'],drop_first=True)\n"
   ]
  },
  {
   "cell_type": "code",
   "execution_count": 25,
   "metadata": {
    "execution": {
     "iopub.execute_input": "2020-10-16T15:26:26.068792Z",
     "iopub.status.busy": "2020-10-16T15:26:26.065250Z",
     "iopub.status.idle": "2020-10-16T15:26:26.090550Z",
     "shell.execute_reply": "2020-10-16T15:26:26.089825Z"
    },
    "papermill": {
     "duration": 0.115225,
     "end_time": "2020-10-16T15:26:26.090677",
     "exception": false,
     "start_time": "2020-10-16T15:26:25.975452",
     "status": "completed"
    },
    "tags": []
   },
   "outputs": [
    {
     "data": {
      "text/html": [
       "<div>\n",
       "<style scoped>\n",
       "    .dataframe tbody tr th:only-of-type {\n",
       "        vertical-align: middle;\n",
       "    }\n",
       "\n",
       "    .dataframe tbody tr th {\n",
       "        vertical-align: top;\n",
       "    }\n",
       "\n",
       "    .dataframe thead th {\n",
       "        text-align: right;\n",
       "    }\n",
       "</style>\n",
       "<table border=\"1\" class=\"dataframe\">\n",
       "  <thead>\n",
       "    <tr style=\"text-align: right;\">\n",
       "      <th></th>\n",
       "      <th>image_name</th>\n",
       "      <th>patient_id</th>\n",
       "      <th>age_approx</th>\n",
       "      <th>benign_malignant</th>\n",
       "      <th>target</th>\n",
       "      <th>sex_male</th>\n",
       "      <th>site_lower extremity</th>\n",
       "      <th>site_oral/genital</th>\n",
       "      <th>site_palms/soles</th>\n",
       "      <th>site_torso</th>\n",
       "      <th>site_upper extremity</th>\n",
       "      <th>diagnosis_cafe-au-lait macule</th>\n",
       "      <th>diagnosis_lentigo NOS</th>\n",
       "      <th>diagnosis_lichenoid keratosis</th>\n",
       "      <th>diagnosis_melanoma</th>\n",
       "      <th>diagnosis_nevus</th>\n",
       "      <th>diagnosis_seborrheic keratosis</th>\n",
       "      <th>diagnosis_solar lentigo</th>\n",
       "    </tr>\n",
       "  </thead>\n",
       "  <tbody>\n",
       "    <tr>\n",
       "      <th>0</th>\n",
       "      <td>ISIC_2637011</td>\n",
       "      <td>IP_7279968</td>\n",
       "      <td>45.0</td>\n",
       "      <td>benign</td>\n",
       "      <td>0</td>\n",
       "      <td>1</td>\n",
       "      <td>0</td>\n",
       "      <td>0</td>\n",
       "      <td>0</td>\n",
       "      <td>0</td>\n",
       "      <td>0</td>\n",
       "      <td>0</td>\n",
       "      <td>0</td>\n",
       "      <td>0</td>\n",
       "      <td>0</td>\n",
       "      <td>0</td>\n",
       "      <td>0</td>\n",
       "      <td>0</td>\n",
       "    </tr>\n",
       "    <tr>\n",
       "      <th>1</th>\n",
       "      <td>ISIC_0015719</td>\n",
       "      <td>IP_3075186</td>\n",
       "      <td>45.0</td>\n",
       "      <td>benign</td>\n",
       "      <td>0</td>\n",
       "      <td>0</td>\n",
       "      <td>0</td>\n",
       "      <td>0</td>\n",
       "      <td>0</td>\n",
       "      <td>0</td>\n",
       "      <td>1</td>\n",
       "      <td>0</td>\n",
       "      <td>0</td>\n",
       "      <td>0</td>\n",
       "      <td>0</td>\n",
       "      <td>0</td>\n",
       "      <td>0</td>\n",
       "      <td>0</td>\n",
       "    </tr>\n",
       "    <tr>\n",
       "      <th>2</th>\n",
       "      <td>ISIC_0052212</td>\n",
       "      <td>IP_2842074</td>\n",
       "      <td>50.0</td>\n",
       "      <td>benign</td>\n",
       "      <td>0</td>\n",
       "      <td>0</td>\n",
       "      <td>1</td>\n",
       "      <td>0</td>\n",
       "      <td>0</td>\n",
       "      <td>0</td>\n",
       "      <td>0</td>\n",
       "      <td>0</td>\n",
       "      <td>0</td>\n",
       "      <td>0</td>\n",
       "      <td>0</td>\n",
       "      <td>1</td>\n",
       "      <td>0</td>\n",
       "      <td>0</td>\n",
       "    </tr>\n",
       "    <tr>\n",
       "      <th>3</th>\n",
       "      <td>ISIC_0068279</td>\n",
       "      <td>IP_6890425</td>\n",
       "      <td>45.0</td>\n",
       "      <td>benign</td>\n",
       "      <td>0</td>\n",
       "      <td>0</td>\n",
       "      <td>0</td>\n",
       "      <td>0</td>\n",
       "      <td>0</td>\n",
       "      <td>0</td>\n",
       "      <td>0</td>\n",
       "      <td>0</td>\n",
       "      <td>0</td>\n",
       "      <td>0</td>\n",
       "      <td>0</td>\n",
       "      <td>0</td>\n",
       "      <td>0</td>\n",
       "      <td>0</td>\n",
       "    </tr>\n",
       "    <tr>\n",
       "      <th>4</th>\n",
       "      <td>ISIC_0074268</td>\n",
       "      <td>IP_8723313</td>\n",
       "      <td>55.0</td>\n",
       "      <td>benign</td>\n",
       "      <td>0</td>\n",
       "      <td>0</td>\n",
       "      <td>0</td>\n",
       "      <td>0</td>\n",
       "      <td>0</td>\n",
       "      <td>0</td>\n",
       "      <td>1</td>\n",
       "      <td>0</td>\n",
       "      <td>0</td>\n",
       "      <td>0</td>\n",
       "      <td>0</td>\n",
       "      <td>0</td>\n",
       "      <td>0</td>\n",
       "      <td>0</td>\n",
       "    </tr>\n",
       "  </tbody>\n",
       "</table>\n",
       "</div>"
      ],
      "text/plain": [
       "     image_name  patient_id  age_approx benign_malignant  target  sex_male  \\\n",
       "0  ISIC_2637011  IP_7279968        45.0           benign       0         1   \n",
       "1  ISIC_0015719  IP_3075186        45.0           benign       0         0   \n",
       "2  ISIC_0052212  IP_2842074        50.0           benign       0         0   \n",
       "3  ISIC_0068279  IP_6890425        45.0           benign       0         0   \n",
       "4  ISIC_0074268  IP_8723313        55.0           benign       0         0   \n",
       "\n",
       "   site_lower extremity  site_oral/genital  site_palms/soles  site_torso  \\\n",
       "0                     0                  0                 0           0   \n",
       "1                     0                  0                 0           0   \n",
       "2                     1                  0                 0           0   \n",
       "3                     0                  0                 0           0   \n",
       "4                     0                  0                 0           0   \n",
       "\n",
       "   site_upper extremity  diagnosis_cafe-au-lait macule  diagnosis_lentigo NOS  \\\n",
       "0                     0                              0                      0   \n",
       "1                     1                              0                      0   \n",
       "2                     0                              0                      0   \n",
       "3                     0                              0                      0   \n",
       "4                     1                              0                      0   \n",
       "\n",
       "   diagnosis_lichenoid keratosis  diagnosis_melanoma  diagnosis_nevus  \\\n",
       "0                              0                   0                0   \n",
       "1                              0                   0                0   \n",
       "2                              0                   0                1   \n",
       "3                              0                   0                0   \n",
       "4                              0                   0                0   \n",
       "\n",
       "   diagnosis_seborrheic keratosis  diagnosis_solar lentigo  \n",
       "0                               0                        0  \n",
       "1                               0                        0  \n",
       "2                               0                        0  \n",
       "3                               0                        0  \n",
       "4                               0                        0  "
      ]
     },
     "execution_count": 25,
     "metadata": {},
     "output_type": "execute_result"
    }
   ],
   "source": [
    "df = df.drop('diagnosis_unknown', axis = 1)\n",
    "df.head()"
   ]
  },
  {
   "cell_type": "code",
   "execution_count": 26,
   "metadata": {
    "execution": {
     "iopub.execute_input": "2020-10-16T15:26:26.264314Z",
     "iopub.status.busy": "2020-10-16T15:26:26.263504Z",
     "iopub.status.idle": "2020-10-16T15:26:26.282497Z",
     "shell.execute_reply": "2020-10-16T15:26:26.283026Z"
    },
    "papermill": {
     "duration": 0.109857,
     "end_time": "2020-10-16T15:26:26.283191",
     "exception": false,
     "start_time": "2020-10-16T15:26:26.173334",
     "status": "completed"
    },
    "tags": []
   },
   "outputs": [
    {
     "data": {
      "text/html": [
       "<div>\n",
       "<style scoped>\n",
       "    .dataframe tbody tr th:only-of-type {\n",
       "        vertical-align: middle;\n",
       "    }\n",
       "\n",
       "    .dataframe tbody tr th {\n",
       "        vertical-align: top;\n",
       "    }\n",
       "\n",
       "    .dataframe thead th {\n",
       "        text-align: right;\n",
       "    }\n",
       "</style>\n",
       "<table border=\"1\" class=\"dataframe\">\n",
       "  <thead>\n",
       "    <tr style=\"text-align: right;\">\n",
       "      <th></th>\n",
       "      <th>image_name</th>\n",
       "      <th>age_approx</th>\n",
       "      <th>target</th>\n",
       "      <th>sex_male</th>\n",
       "      <th>site_lower extremity</th>\n",
       "      <th>site_oral/genital</th>\n",
       "      <th>site_palms/soles</th>\n",
       "      <th>site_torso</th>\n",
       "      <th>site_upper extremity</th>\n",
       "      <th>diagnosis_cafe-au-lait macule</th>\n",
       "      <th>diagnosis_lentigo NOS</th>\n",
       "      <th>diagnosis_lichenoid keratosis</th>\n",
       "      <th>diagnosis_melanoma</th>\n",
       "      <th>diagnosis_nevus</th>\n",
       "      <th>diagnosis_seborrheic keratosis</th>\n",
       "      <th>diagnosis_solar lentigo</th>\n",
       "    </tr>\n",
       "  </thead>\n",
       "  <tbody>\n",
       "    <tr>\n",
       "      <th>0</th>\n",
       "      <td>ISIC_2637011</td>\n",
       "      <td>45.0</td>\n",
       "      <td>0</td>\n",
       "      <td>1</td>\n",
       "      <td>0</td>\n",
       "      <td>0</td>\n",
       "      <td>0</td>\n",
       "      <td>0</td>\n",
       "      <td>0</td>\n",
       "      <td>0</td>\n",
       "      <td>0</td>\n",
       "      <td>0</td>\n",
       "      <td>0</td>\n",
       "      <td>0</td>\n",
       "      <td>0</td>\n",
       "      <td>0</td>\n",
       "    </tr>\n",
       "    <tr>\n",
       "      <th>1</th>\n",
       "      <td>ISIC_0015719</td>\n",
       "      <td>45.0</td>\n",
       "      <td>0</td>\n",
       "      <td>0</td>\n",
       "      <td>0</td>\n",
       "      <td>0</td>\n",
       "      <td>0</td>\n",
       "      <td>0</td>\n",
       "      <td>1</td>\n",
       "      <td>0</td>\n",
       "      <td>0</td>\n",
       "      <td>0</td>\n",
       "      <td>0</td>\n",
       "      <td>0</td>\n",
       "      <td>0</td>\n",
       "      <td>0</td>\n",
       "    </tr>\n",
       "    <tr>\n",
       "      <th>2</th>\n",
       "      <td>ISIC_0052212</td>\n",
       "      <td>50.0</td>\n",
       "      <td>0</td>\n",
       "      <td>0</td>\n",
       "      <td>1</td>\n",
       "      <td>0</td>\n",
       "      <td>0</td>\n",
       "      <td>0</td>\n",
       "      <td>0</td>\n",
       "      <td>0</td>\n",
       "      <td>0</td>\n",
       "      <td>0</td>\n",
       "      <td>0</td>\n",
       "      <td>1</td>\n",
       "      <td>0</td>\n",
       "      <td>0</td>\n",
       "    </tr>\n",
       "    <tr>\n",
       "      <th>3</th>\n",
       "      <td>ISIC_0068279</td>\n",
       "      <td>45.0</td>\n",
       "      <td>0</td>\n",
       "      <td>0</td>\n",
       "      <td>0</td>\n",
       "      <td>0</td>\n",
       "      <td>0</td>\n",
       "      <td>0</td>\n",
       "      <td>0</td>\n",
       "      <td>0</td>\n",
       "      <td>0</td>\n",
       "      <td>0</td>\n",
       "      <td>0</td>\n",
       "      <td>0</td>\n",
       "      <td>0</td>\n",
       "      <td>0</td>\n",
       "    </tr>\n",
       "    <tr>\n",
       "      <th>4</th>\n",
       "      <td>ISIC_0074268</td>\n",
       "      <td>55.0</td>\n",
       "      <td>0</td>\n",
       "      <td>0</td>\n",
       "      <td>0</td>\n",
       "      <td>0</td>\n",
       "      <td>0</td>\n",
       "      <td>0</td>\n",
       "      <td>1</td>\n",
       "      <td>0</td>\n",
       "      <td>0</td>\n",
       "      <td>0</td>\n",
       "      <td>0</td>\n",
       "      <td>0</td>\n",
       "      <td>0</td>\n",
       "      <td>0</td>\n",
       "    </tr>\n",
       "  </tbody>\n",
       "</table>\n",
       "</div>"
      ],
      "text/plain": [
       "     image_name  age_approx  target  sex_male  site_lower extremity  \\\n",
       "0  ISIC_2637011        45.0       0         1                     0   \n",
       "1  ISIC_0015719        45.0       0         0                     0   \n",
       "2  ISIC_0052212        50.0       0         0                     1   \n",
       "3  ISIC_0068279        45.0       0         0                     0   \n",
       "4  ISIC_0074268        55.0       0         0                     0   \n",
       "\n",
       "   site_oral/genital  site_palms/soles  site_torso  site_upper extremity  \\\n",
       "0                  0                 0           0                     0   \n",
       "1                  0                 0           0                     1   \n",
       "2                  0                 0           0                     0   \n",
       "3                  0                 0           0                     0   \n",
       "4                  0                 0           0                     1   \n",
       "\n",
       "   diagnosis_cafe-au-lait macule  diagnosis_lentigo NOS  \\\n",
       "0                              0                      0   \n",
       "1                              0                      0   \n",
       "2                              0                      0   \n",
       "3                              0                      0   \n",
       "4                              0                      0   \n",
       "\n",
       "   diagnosis_lichenoid keratosis  diagnosis_melanoma  diagnosis_nevus  \\\n",
       "0                              0                   0                0   \n",
       "1                              0                   0                0   \n",
       "2                              0                   0                1   \n",
       "3                              0                   0                0   \n",
       "4                              0                   0                0   \n",
       "\n",
       "   diagnosis_seborrheic keratosis  diagnosis_solar lentigo  \n",
       "0                               0                        0  \n",
       "1                               0                        0  \n",
       "2                               0                        0  \n",
       "3                               0                        0  \n",
       "4                               0                        0  "
      ]
     },
     "execution_count": 26,
     "metadata": {},
     "output_type": "execute_result"
    }
   ],
   "source": [
    "df = df.drop(['benign_malignant', 'patient_id'], axis = 1)\n",
    "df.head()"
   ]
  },
  {
   "cell_type": "code",
   "execution_count": 27,
   "metadata": {
    "execution": {
     "iopub.execute_input": "2020-10-16T15:26:26.461221Z",
     "iopub.status.busy": "2020-10-16T15:26:26.460448Z",
     "iopub.status.idle": "2020-10-16T15:26:26.835941Z",
     "shell.execute_reply": "2020-10-16T15:26:26.835212Z"
    },
    "papermill": {
     "duration": 0.468216,
     "end_time": "2020-10-16T15:26:26.836062",
     "exception": false,
     "start_time": "2020-10-16T15:26:26.367846",
     "status": "completed"
    },
    "tags": []
   },
   "outputs": [
    {
     "data": {
      "text/plain": [
       "<matplotlib.axes._subplots.AxesSubplot at 0x7fc15f192f90>"
      ]
     },
     "execution_count": 27,
     "metadata": {},
     "output_type": "execute_result"
    },
    {
     "data": {
      "image/png": "[encoded data removed]",
      "text/plain": [
       "<Figure size 720x720 with 2 Axes>"
      ]
     },
     "metadata": {
      "needs_background": "light"
     },
     "output_type": "display_data"
    }
   ],
   "source": [
    "plt.figure(figsize = (10,10))\n",
    "sns.heatmap(df.corr()[['target']].sort_values('target').tail(16), annot = True)"
   ]
  },
  {
   "cell_type": "code",
   "execution_count": 28,
   "metadata": {
    "execution": {
     "iopub.execute_input": "2020-10-16T15:26:27.034391Z",
     "iopub.status.busy": "2020-10-16T15:26:27.033622Z",
     "iopub.status.idle": "2020-10-16T15:26:31.079894Z",
     "shell.execute_reply": "2020-10-16T15:26:31.075322Z"
    },
    "papermill": {
     "duration": 4.157996,
     "end_time": "2020-10-16T15:26:31.080090",
     "exception": false,
     "start_time": "2020-10-16T15:26:26.922094",
     "status": "completed"
    },
    "tags": []
   },
   "outputs": [
    {
     "data": {
      "text/plain": [
       "<matplotlib.axes._subplots.AxesSubplot at 0x7fc15e638ed0>"
      ]
     },
     "execution_count": 28,
     "metadata": {},
     "output_type": "execute_result"
    },
    {
     "data": {
      "image/png": "[encoded data removed]",
      "text/plain": [
       "<Figure size 1080x1440 with 7 Axes>"
      ]
     },
     "metadata": {
      "needs_background": "light"
     },
     "output_type": "display_data"
    }
   ],
   "source": [
    "plt.figure(figsize=(15,20))\n",
    "\n",
    "plt.subplot(4,2,1)\n",
    "sns.lineplot(df['diagnosis_melanoma'], df['target'])\n",
    "plt.subplot(4,2,2)\n",
    "sns.lineplot(df['age_approx'], df['target'])\n",
    "plt.subplot(4,2,3)\n",
    "sns.lineplot(df['site_torso'], df['target'])\n",
    "plt.subplot(4,2,4)\n",
    "sns.lineplot(df['diagnosis_nevus'], df['target'])\n",
    "plt.subplot(4,2,5)\n",
    "sns.lineplot(df['sex_male'], df['target'])\n",
    "plt.subplot(4,2,6)\n",
    "sns.lineplot(df['site_upper extremity'], df['target'])\n",
    "plt.subplot(4,2,7)\n",
    "sns.lineplot(df['site_lower extremity'], df['target'])"
   ]
  },
  {
   "cell_type": "markdown",
   "metadata": {
    "papermill": {
     "duration": 0.089248,
     "end_time": "2020-10-16T15:26:31.275965",
     "exception": false,
     "start_time": "2020-10-16T15:26:31.186717",
     "status": "completed"
    },
    "tags": []
   },
   "source": [
    "> # Training and Testing the Model"
   ]
  },
  {
   "cell_type": "code",
   "execution_count": 29,
   "metadata": {
    "execution": {
     "iopub.execute_input": "2020-10-16T15:26:31.464782Z",
     "iopub.status.busy": "2020-10-16T15:26:31.463894Z",
     "iopub.status.idle": "2020-10-16T15:26:31.467549Z",
     "shell.execute_reply": "2020-10-16T15:26:31.468072Z"
    },
    "papermill": {
     "duration": 0.102474,
     "end_time": "2020-10-16T15:26:31.468219",
     "exception": false,
     "start_time": "2020-10-16T15:26:31.365745",
     "status": "completed"
    },
    "tags": []
   },
   "outputs": [],
   "source": [
    "X = df[['diagnosis_melanoma','site_torso','diagnosis_nevus','site_lower extremity','site_upper extremity', 'sex_male', 'age_approx']]\n",
    "y = df['target']"
   ]
  },
  {
   "cell_type": "code",
   "execution_count": 30,
   "metadata": {
    "execution": {
     "iopub.execute_input": "2020-10-16T15:26:31.653684Z",
     "iopub.status.busy": "2020-10-16T15:26:31.652850Z",
     "iopub.status.idle": "2020-10-16T15:26:31.676142Z",
     "shell.execute_reply": "2020-10-16T15:26:31.675361Z"
    },
    "papermill": {
     "duration": 0.11815,
     "end_time": "2020-10-16T15:26:31.676265",
     "exception": false,
     "start_time": "2020-10-16T15:26:31.558115",
     "status": "completed"
    },
    "tags": []
   },
   "outputs": [],
   "source": [
    "from sklearn.model_selection import train_test_split\n",
    "X_train, X_test, y_train, y_test = train_test_split(X, y, test_size = 0.2, random_state = 1)"
   ]
  },
  {
   "cell_type": "markdown",
   "metadata": {
    "papermill": {
     "duration": 0.089487,
     "end_time": "2020-10-16T15:26:31.855475",
     "exception": false,
     "start_time": "2020-10-16T15:26:31.765988",
     "status": "completed"
    },
    "tags": []
   },
   "source": [
    "## Logistic Regression"
   ]
  },
  {
   "cell_type": "code",
   "execution_count": 31,
   "metadata": {
    "execution": {
     "iopub.execute_input": "2020-10-16T15:26:32.042489Z",
     "iopub.status.busy": "2020-10-16T15:26:32.041750Z",
     "iopub.status.idle": "2020-10-16T15:26:32.436255Z",
     "shell.execute_reply": "2020-10-16T15:26:32.437119Z"
    },
    "papermill": {
     "duration": 0.492201,
     "end_time": "2020-10-16T15:26:32.437327",
     "exception": false,
     "start_time": "2020-10-16T15:26:31.945126",
     "status": "completed"
    },
    "tags": []
   },
   "outputs": [
    {
     "name": "stdout",
     "output_type": "stream",
     "text": [
      "Accuracy Score:  1.0\n",
      "Confusion Matrix: \n",
      " [[6396    0]\n",
      " [   0  111]]\n"
     ]
    },
    {
     "name": "stderr",
     "output_type": "stream",
     "text": [
      "/opt/conda/lib/python3.7/site-packages/sklearn/linear_model/_logistic.py:764: ConvergenceWarning: lbfgs failed to converge (status=1):\n",
      "STOP: TOTAL NO. of ITERATIONS REACHED LIMIT.\n",
      "\n",
      "Increase the number of iterations (max_iter) or scale the data as shown in:\n",
      "    https://scikit-learn.org/stable/modules/preprocessing.html\n",
      "Please also refer to the documentation for alternative solver options:\n",
      "    https://scikit-learn.org/stable/modules/linear_model.html#logistic-regression\n",
      "  extra_warning_msg=_LOGISTIC_SOLVER_CONVERGENCE_MSG)\n"
     ]
    }
   ],
   "source": [
    "from sklearn.linear_model import LogisticRegression\n",
    "classifier_lr = LogisticRegression()\n",
    "classifier_lr.fit(X_train,y_train)\n",
    "\n",
    "y_pred_lr = classifier_lr.predict(X_test)\n",
    "print('Accuracy Score: ',accuracy_score(y_test,y_pred_lr))\n",
    "print('Confusion Matrix: \\n',confusion_matrix(y_test,y_pred_lr))"
   ]
  },
  {
   "cell_type": "markdown",
   "metadata": {
    "papermill": {
     "duration": 0.090682,
     "end_time": "2020-10-16T15:26:32.665347",
     "exception": false,
     "start_time": "2020-10-16T15:26:32.574665",
     "status": "completed"
    },
    "tags": []
   },
   "source": [
    "## Support Vector Machine"
   ]
  },
  {
   "cell_type": "code",
   "execution_count": 32,
   "metadata": {
    "execution": {
     "iopub.execute_input": "2020-10-16T15:26:32.856906Z",
     "iopub.status.busy": "2020-10-16T15:26:32.856136Z",
     "iopub.status.idle": "2020-10-16T15:26:34.123835Z",
     "shell.execute_reply": "2020-10-16T15:26:34.122910Z"
    },
    "papermill": {
     "duration": 1.367224,
     "end_time": "2020-10-16T15:26:34.124012",
     "exception": false,
     "start_time": "2020-10-16T15:26:32.756788",
     "status": "completed"
    },
    "tags": []
   },
   "outputs": [
    {
     "name": "stdout",
     "output_type": "stream",
     "text": [
      "Accuracy Score:  0.9829414476717381\n",
      "Confusion Matrix: \n",
      " [[6396    0]\n",
      " [ 111    0]]\n"
     ]
    }
   ],
   "source": [
    "from sklearn import svm\n",
    "\n",
    "classifier_svm = svm.SVC()\n",
    "classifier_svm.fit(X_train,y_train)\n",
    "\n",
    "y_pred_svm = classifier_svm.predict(X_test)\n",
    "print('Accuracy Score: ',accuracy_score(y_test,y_pred_svm))\n",
    "print('Confusion Matrix: \\n',confusion_matrix(y_test,y_pred_svm))"
   ]
  },
  {
   "cell_type": "markdown",
   "metadata": {
    "papermill": {
     "duration": 0.090383,
     "end_time": "2020-10-16T15:26:34.305978",
     "exception": false,
     "start_time": "2020-10-16T15:26:34.215595",
     "status": "completed"
    },
    "tags": []
   },
   "source": [
    "## Decision Tree"
   ]
  },
  {
   "cell_type": "code",
   "execution_count": 33,
   "metadata": {
    "execution": {
     "iopub.execute_input": "2020-10-16T15:26:34.495891Z",
     "iopub.status.busy": "2020-10-16T15:26:34.495105Z",
     "iopub.status.idle": "2020-10-16T15:26:34.701709Z",
     "shell.execute_reply": "2020-10-16T15:26:34.702445Z"
    },
    "papermill": {
     "duration": 0.306065,
     "end_time": "2020-10-16T15:26:34.702658",
     "exception": false,
     "start_time": "2020-10-16T15:26:34.396593",
     "status": "completed"
    },
    "tags": []
   },
   "outputs": [
    {
     "name": "stdout",
     "output_type": "stream",
     "text": [
      "Accuracy Score:  1.0\n",
      "Confusion Matrix: \n",
      " [[6396    0]\n",
      " [   0  111]]\n"
     ]
    }
   ],
   "source": [
    "from sklearn.tree import DecisionTreeClassifier\n",
    "\n",
    "classifier_dt = DecisionTreeClassifier()\n",
    "classifier_dt.fit(X_train,y_train)\n",
    "\n",
    "y_pred_dt = classifier_dt.predict(X_test)\n",
    "print('Accuracy Score: ',accuracy_score(y_test,y_pred_dt))\n",
    "print('Confusion Matrix: \\n',confusion_matrix(y_test,y_pred_dt))"
   ]
  },
  {
   "cell_type": "markdown",
   "metadata": {
    "papermill": {
     "duration": 0.090866,
     "end_time": "2020-10-16T15:26:34.885664",
     "exception": false,
     "start_time": "2020-10-16T15:26:34.794798",
     "status": "completed"
    },
    "tags": []
   },
   "source": [
    "## Random Forest"
   ]
  },
  {
   "cell_type": "code",
   "execution_count": 34,
   "metadata": {
    "execution": {
     "iopub.execute_input": "2020-10-16T15:26:35.076877Z",
     "iopub.status.busy": "2020-10-16T15:26:35.076117Z",
     "iopub.status.idle": "2020-10-16T15:26:35.813456Z",
     "shell.execute_reply": "2020-10-16T15:26:35.814420Z"
    },
    "papermill": {
     "duration": 0.836989,
     "end_time": "2020-10-16T15:26:35.814644",
     "exception": false,
     "start_time": "2020-10-16T15:26:34.977655",
     "status": "completed"
    },
    "tags": []
   },
   "outputs": [
    {
     "name": "stdout",
     "output_type": "stream",
     "text": [
      "Accuracy Score:  1.0\n",
      "Confusion Matrix: \n",
      " [[6396    0]\n",
      " [   0  111]]\n"
     ]
    }
   ],
   "source": [
    "from sklearn.ensemble import RandomForestClassifier\n",
    "\n",
    "classifier_rf = RandomForestClassifier()\n",
    "classifier_rf.fit(X_train,y_train)\n",
    "\n",
    "y_pred_rf = classifier_rf.predict(X_test)\n",
    "print('Accuracy Score: ',accuracy_score(y_test,y_pred_rf))\n",
    "print('Confusion Matrix: \\n',confusion_matrix(y_test,y_pred_rf))"
   ]
  },
  {
   "cell_type": "markdown",
   "metadata": {
    "papermill": {
     "duration": 0.092497,
     "end_time": "2020-10-16T15:26:35.999815",
     "exception": false,
     "start_time": "2020-10-16T15:26:35.907318",
     "status": "completed"
    },
    "tags": []
   },
   "source": [
    "## Gradient Boosting"
   ]
  },
  {
   "cell_type": "code",
   "execution_count": 35,
   "metadata": {
    "execution": {
     "iopub.execute_input": "2020-10-16T15:26:36.195256Z",
     "iopub.status.busy": "2020-10-16T15:26:36.194178Z",
     "iopub.status.idle": "2020-10-16T15:26:36.954423Z",
     "shell.execute_reply": "2020-10-16T15:26:36.953588Z"
    },
    "papermill": {
     "duration": 0.861543,
     "end_time": "2020-10-16T15:26:36.954579",
     "exception": false,
     "start_time": "2020-10-16T15:26:36.093036",
     "status": "completed"
    },
    "tags": []
   },
   "outputs": [
    {
     "name": "stdout",
     "output_type": "stream",
     "text": [
      "Accuracy Score:  1.0\n",
      "Confusion Matrix: \n",
      " [[6396    0]\n",
      " [   0  111]]\n"
     ]
    }
   ],
   "source": [
    "from sklearn.ensemble import GradientBoostingClassifier\n",
    "\n",
    "classifier_gb = GradientBoostingClassifier()\n",
    "classifier_gb.fit(X_train,y_train)\n",
    "\n",
    "y_pred_gb = classifier_gb.predict(X_test)\n",
    "print('Accuracy Score: ',accuracy_score(y_test,y_pred_gb))\n",
    "print('Confusion Matrix: \\n',confusion_matrix(y_test,y_pred_gb))"
   ]
  },
  {
   "cell_type": "markdown",
   "metadata": {
    "papermill": {
     "duration": 0.093005,
     "end_time": "2020-10-16T15:26:37.141838",
     "exception": false,
     "start_time": "2020-10-16T15:26:37.048833",
     "status": "completed"
    },
    "tags": []
   },
   "source": [
    "## Adaptive Boosting"
   ]
  },
  {
   "cell_type": "code",
   "execution_count": 36,
   "metadata": {
    "execution": {
     "iopub.execute_input": "2020-10-16T15:26:37.338612Z",
     "iopub.status.busy": "2020-10-16T15:26:37.337833Z",
     "iopub.status.idle": "2020-10-16T15:26:37.367672Z",
     "shell.execute_reply": "2020-10-16T15:26:37.368276Z"
    },
    "papermill": {
     "duration": 0.132657,
     "end_time": "2020-10-16T15:26:37.368433",
     "exception": false,
     "start_time": "2020-10-16T15:26:37.235776",
     "status": "completed"
    },
    "tags": []
   },
   "outputs": [
    {
     "name": "stdout",
     "output_type": "stream",
     "text": [
      "Accuracy Score:  1.0\n",
      "Confusion Matrix: \n",
      " [[6396    0]\n",
      " [   0  111]]\n"
     ]
    }
   ],
   "source": [
    "from sklearn.ensemble import AdaBoostClassifier\n",
    "\n",
    "classifier_ab = AdaBoostClassifier()\n",
    "classifier_ab.fit(X_train,y_train)\n",
    "\n",
    "y_pred_ab = classifier_ab.predict(X_test)\n",
    "print('Accuracy Score: ',accuracy_score(y_test,y_pred_ab))\n",
    "print('Confusion Matrix: \\n',confusion_matrix(y_test,y_pred_ab))"
   ]
  },
  {
   "cell_type": "code",
   "execution_count": 37,
   "metadata": {
    "execution": {
     "iopub.execute_input": "2020-10-16T15:26:37.577018Z",
     "iopub.status.busy": "2020-10-16T15:26:37.572189Z",
     "iopub.status.idle": "2020-10-16T15:26:37.725097Z",
     "shell.execute_reply": "2020-10-16T15:26:37.724362Z"
    },
    "papermill": {
     "duration": 0.262291,
     "end_time": "2020-10-16T15:26:37.725219",
     "exception": false,
     "start_time": "2020-10-16T15:26:37.462928",
     "status": "completed"
    },
    "tags": []
   },
   "outputs": [
    {
     "data": {
      "text/plain": [
       "(0.9, 1.003)"
      ]
     },
     "execution_count": 37,
     "metadata": {},
     "output_type": "execute_result"
    },
    {
     "data": {
      "image/png": "[encoded data removed]",
      "text/plain": [
       "<Figure size 432x288 with 1 Axes>"
      ]
     },
     "metadata": {
      "needs_background": "light"
     },
     "output_type": "display_data"
    }
   ],
   "source": [
    "x_l = ['Logistic Regression', 'Support Vector Machine', 'Decison Tree', 'Random Forest', 'Adaptive Boosting', 'Gradient Boosting']\n",
    "y_l = [1.0, 0.98, 1.0, 1.0, 1.0, 1.0]\n",
    "\n",
    "sns.barplot(y_l, x_l,palette=\"Reds\")\n",
    "plt.xlim([0.9, 1.003])"
   ]
  },
  {
   "cell_type": "code",
   "execution_count": 38,
   "metadata": {
    "execution": {
     "iopub.execute_input": "2020-10-16T15:26:37.921589Z",
     "iopub.status.busy": "2020-10-16T15:26:37.920884Z",
     "iopub.status.idle": "2020-10-16T15:26:38.941885Z",
     "shell.execute_reply": "2020-10-16T15:26:38.941105Z"
    },
    "papermill": {
     "duration": 1.122301,
     "end_time": "2020-10-16T15:26:38.942009",
     "exception": false,
     "start_time": "2020-10-16T15:26:37.819708",
     "status": "completed"
    },
    "tags": []
   },
   "outputs": [
    {
     "data": {
      "text/plain": [
       "SVC()"
      ]
     },
     "execution_count": 38,
     "metadata": {},
     "output_type": "execute_result"
    }
   ],
   "source": [
    "train1 = svm.SVC()\n",
    "train1.fit(X_train,y_train)"
   ]
  },
  {
   "cell_type": "markdown",
   "metadata": {
    "papermill": {
     "duration": 0.095377,
     "end_time": "2020-10-16T15:26:39.132834",
     "exception": false,
     "start_time": "2020-10-16T15:26:39.037457",
     "status": "completed"
    },
    "tags": []
   },
   "source": [
    "# Analysing Images"
   ]
  },
  {
   "cell_type": "code",
   "execution_count": 39,
   "metadata": {
    "execution": {
     "iopub.execute_input": "2020-10-16T15:26:39.330537Z",
     "iopub.status.busy": "2020-10-16T15:26:39.329689Z",
     "iopub.status.idle": "2020-10-16T15:26:42.037674Z",
     "shell.execute_reply": "2020-10-16T15:26:42.038576Z"
    },
    "papermill": {
     "duration": 2.810147,
     "end_time": "2020-10-16T15:26:42.038802",
     "exception": false,
     "start_time": "2020-10-16T15:26:39.228655",
     "status": "completed"
    },
    "tags": []
   },
   "outputs": [
    {
     "data": {
      "text/plain": [
       "<matplotlib.image.AxesImage at 0x7fc152e35b90>"
      ]
     },
     "execution_count": 39,
     "metadata": {},
     "output_type": "execute_result"
    },
    {
     "data": {
      "image/png": "[encoded data removed]",
      "text/plain": [
       "<Figure size 432x288 with 1 Axes>"
      ]
     },
     "metadata": {
      "needs_background": "light"
     },
     "output_type": "display_data"
    }
   ],
   "source": [
    "image = '/kaggle/input/siim-isic-melanoma-classification/train/' + df['image_name'][91] +'.dcm'\n",
    "ds = dicom.dcmread(image)\n",
    "\n",
    "plt.imshow(ds.pixel_array)"
   ]
  },
  {
   "cell_type": "code",
   "execution_count": 40,
   "metadata": {
    "execution": {
     "iopub.execute_input": "2020-10-16T15:26:42.274013Z",
     "iopub.status.busy": "2020-10-16T15:26:42.273247Z",
     "iopub.status.idle": "2020-10-16T15:26:42.287533Z",
     "shell.execute_reply": "2020-10-16T15:26:42.286914Z"
    },
    "papermill": {
     "duration": 0.122538,
     "end_time": "2020-10-16T15:26:42.287658",
     "exception": false,
     "start_time": "2020-10-16T15:26:42.165120",
     "status": "completed"
    },
    "tags": []
   },
   "outputs": [
    {
     "data": {
      "text/plain": [
       "1    60\n",
       "0    50\n",
       "Name: target, dtype: int64"
      ]
     },
     "execution_count": 40,
     "metadata": {},
     "output_type": "execute_result"
    }
   ],
   "source": [
    "s0 = df.target[df.target.eq(0)].sample(50, random_state=1).index\n",
    "s1 = df.target[df.target.eq(1)].sample(60,random_state=1).index \n",
    "\n",
    "df = df.loc[s0.union(s1)]\n",
    "df['target'].value_counts()"
   ]
  },
  {
   "cell_type": "code",
   "execution_count": 41,
   "metadata": {
    "execution": {
     "iopub.execute_input": "2020-10-16T15:26:42.494748Z",
     "iopub.status.busy": "2020-10-16T15:26:42.493915Z",
     "iopub.status.idle": "2020-10-16T15:26:42.498297Z",
     "shell.execute_reply": "2020-10-16T15:26:42.497683Z"
    },
    "papermill": {
     "duration": 0.110985,
     "end_time": "2020-10-16T15:26:42.498426",
     "exception": false,
     "start_time": "2020-10-16T15:26:42.387441",
     "status": "completed"
    },
    "tags": []
   },
   "outputs": [
    {
     "data": {
      "text/plain": [
       "(110, 16)"
      ]
     },
     "execution_count": 41,
     "metadata": {},
     "output_type": "execute_result"
    }
   ],
   "source": [
    "df.shape"
   ]
  },
  {
   "cell_type": "code",
   "execution_count": 42,
   "metadata": {
    "execution": {
     "iopub.execute_input": "2020-10-16T15:26:42.706260Z",
     "iopub.status.busy": "2020-10-16T15:26:42.705535Z",
     "iopub.status.idle": "2020-10-16T15:27:13.985404Z",
     "shell.execute_reply": "2020-10-16T15:27:13.984754Z"
    },
    "papermill": {
     "duration": 31.386179,
     "end_time": "2020-10-16T15:27:13.985542",
     "exception": false,
     "start_time": "2020-10-16T15:26:42.599363",
     "status": "completed"
    },
    "tags": []
   },
   "outputs": [],
   "source": [
    "images = []\n",
    "for x in df['image_name']:\n",
    "    image = '/kaggle/input/siim-isic-melanoma-classification/train/' + x +'.dcm'\n",
    "    ds = dicom.dcmread(image)\n",
    "    pixels = ds.pixel_array\n",
    "    images.append(pixels.flatten())\n"
   ]
  },
  {
   "cell_type": "code",
   "execution_count": 43,
   "metadata": {
    "execution": {
     "iopub.execute_input": "2020-10-16T15:27:14.193056Z",
     "iopub.status.busy": "2020-10-16T15:27:14.192291Z",
     "iopub.status.idle": "2020-10-16T15:27:19.265925Z",
     "shell.execute_reply": "2020-10-16T15:27:19.265288Z"
    },
    "papermill": {
     "duration": 5.179721,
     "end_time": "2020-10-16T15:27:19.266057",
     "exception": false,
     "start_time": "2020-10-16T15:27:14.086336",
     "status": "completed"
    },
    "tags": []
   },
   "outputs": [],
   "source": [
    "import tensorflow as tf\n",
    "images = tf.keras.preprocessing.sequence.pad_sequences(\n",
    "  images,\n",
    "  maxlen = 720,\n",
    "  dtype = \"int32\",\n",
    "  padding = \"pre\",\n",
    "  truncating = \"pre\",\n",
    "  value = 0\n",
    ")"
   ]
  },
  {
   "cell_type": "markdown",
   "metadata": {
    "papermill": {
     "duration": 0.101554,
     "end_time": "2020-10-16T15:27:19.468977",
     "exception": false,
     "start_time": "2020-10-16T15:27:19.367423",
     "status": "completed"
    },
    "tags": []
   },
   "source": [
    "# Training the Model"
   ]
  },
  {
   "cell_type": "markdown",
   "metadata": {
    "papermill": {
     "duration": 0.109502,
     "end_time": "2020-10-16T15:27:19.688502",
     "exception": false,
     "start_time": "2020-10-16T15:27:19.579000",
     "status": "completed"
    },
    "tags": []
   },
   "source": [
    "## Logistic Regression"
   ]
  },
  {
   "cell_type": "code",
   "execution_count": 44,
   "metadata": {
    "execution": {
     "iopub.execute_input": "2020-10-16T15:27:19.916905Z",
     "iopub.status.busy": "2020-10-16T15:27:19.914431Z",
     "iopub.status.idle": "2020-10-16T15:27:19.981364Z",
     "shell.execute_reply": "2020-10-16T15:27:19.980520Z"
    },
    "papermill": {
     "duration": 0.177649,
     "end_time": "2020-10-16T15:27:19.981504",
     "exception": false,
     "start_time": "2020-10-16T15:27:19.803855",
     "status": "completed"
    },
    "tags": []
   },
   "outputs": [
    {
     "name": "stderr",
     "output_type": "stream",
     "text": [
      "/opt/conda/lib/python3.7/site-packages/sklearn/linear_model/_logistic.py:764: ConvergenceWarning: lbfgs failed to converge (status=1):\n",
      "STOP: TOTAL NO. of ITERATIONS REACHED LIMIT.\n",
      "\n",
      "Increase the number of iterations (max_iter) or scale the data as shown in:\n",
      "    https://scikit-learn.org/stable/modules/preprocessing.html\n",
      "Please also refer to the documentation for alternative solver options:\n",
      "    https://scikit-learn.org/stable/modules/linear_model.html#logistic-regression\n",
      "  extra_warning_msg=_LOGISTIC_SOLVER_CONVERGENCE_MSG)\n"
     ]
    },
    {
     "data": {
      "text/plain": [
       "LogisticRegression()"
      ]
     },
     "execution_count": 44,
     "metadata": {},
     "output_type": "execute_result"
    }
   ],
   "source": [
    "from sklearn.linear_model import LogisticRegression\n",
    "X = images\n",
    "y = np.array(df['target'])\n",
    "classifier_lr = LogisticRegression()\n",
    "classifier_lr.fit(X,y)"
   ]
  },
  {
   "cell_type": "markdown",
   "metadata": {
    "papermill": {
     "duration": 0.112881,
     "end_time": "2020-10-16T15:27:20.218123",
     "exception": false,
     "start_time": "2020-10-16T15:27:20.105242",
     "status": "completed"
    },
    "tags": []
   },
   "source": [
    "## Support Vector Machine"
   ]
  },
  {
   "cell_type": "code",
   "execution_count": 45,
   "metadata": {
    "execution": {
     "iopub.execute_input": "2020-10-16T15:27:20.436906Z",
     "iopub.status.busy": "2020-10-16T15:27:20.435806Z",
     "iopub.status.idle": "2020-10-16T15:27:20.455020Z",
     "shell.execute_reply": "2020-10-16T15:27:20.454312Z"
    },
    "papermill": {
     "duration": 0.12873,
     "end_time": "2020-10-16T15:27:20.455145",
     "exception": false,
     "start_time": "2020-10-16T15:27:20.326415",
     "status": "completed"
    },
    "tags": []
   },
   "outputs": [
    {
     "data": {
      "text/plain": [
       "SVC()"
      ]
     },
     "execution_count": 45,
     "metadata": {},
     "output_type": "execute_result"
    }
   ],
   "source": [
    "from sklearn import svm\n",
    "X = images\n",
    "y = np.array(df['target'])\n",
    "classifier_svm = svm.SVC()\n",
    "classifier_svm.fit(X,y)"
   ]
  },
  {
   "cell_type": "markdown",
   "metadata": {
    "papermill": {
     "duration": 0.101984,
     "end_time": "2020-10-16T15:27:20.660384",
     "exception": false,
     "start_time": "2020-10-16T15:27:20.558400",
     "status": "completed"
    },
    "tags": []
   },
   "source": [
    "## Decision Tree"
   ]
  },
  {
   "cell_type": "code",
   "execution_count": 46,
   "metadata": {
    "execution": {
     "iopub.execute_input": "2020-10-16T15:27:20.875148Z",
     "iopub.status.busy": "2020-10-16T15:27:20.874366Z",
     "iopub.status.idle": "2020-10-16T15:27:20.905491Z",
     "shell.execute_reply": "2020-10-16T15:27:20.904781Z"
    },
    "papermill": {
     "duration": 0.13941,
     "end_time": "2020-10-16T15:27:20.905604",
     "exception": false,
     "start_time": "2020-10-16T15:27:20.766194",
     "status": "completed"
    },
    "tags": []
   },
   "outputs": [
    {
     "data": {
      "text/plain": [
       "DecisionTreeClassifier()"
      ]
     },
     "execution_count": 46,
     "metadata": {},
     "output_type": "execute_result"
    }
   ],
   "source": [
    "from sklearn.tree import DecisionTreeClassifier\n",
    "X = images\n",
    "y = np.array(df['target'])\n",
    "classifier_dt = DecisionTreeClassifier()\n",
    "classifier_dt.fit(X,y)"
   ]
  },
  {
   "cell_type": "markdown",
   "metadata": {
    "papermill": {
     "duration": 0.107002,
     "end_time": "2020-10-16T15:27:21.115502",
     "exception": false,
     "start_time": "2020-10-16T15:27:21.008500",
     "status": "completed"
    },
    "tags": []
   },
   "source": [
    "## Random Forest"
   ]
  },
  {
   "cell_type": "code",
   "execution_count": 47,
   "metadata": {
    "execution": {
     "iopub.execute_input": "2020-10-16T15:27:21.339267Z",
     "iopub.status.busy": "2020-10-16T15:27:21.328464Z",
     "iopub.status.idle": "2020-10-16T15:27:21.599280Z",
     "shell.execute_reply": "2020-10-16T15:27:21.599845Z"
    },
    "papermill": {
     "duration": 0.381633,
     "end_time": "2020-10-16T15:27:21.600018",
     "exception": false,
     "start_time": "2020-10-16T15:27:21.218385",
     "status": "completed"
    },
    "tags": []
   },
   "outputs": [
    {
     "data": {
      "text/plain": [
       "RandomForestClassifier()"
      ]
     },
     "execution_count": 47,
     "metadata": {},
     "output_type": "execute_result"
    }
   ],
   "source": [
    "from sklearn.ensemble import RandomForestClassifier\n",
    "X = images\n",
    "y = np.array(df['target'])\n",
    "classifier_rf = RandomForestClassifier()\n",
    "classifier_rf.fit(X,y)"
   ]
  },
  {
   "cell_type": "markdown",
   "metadata": {
    "papermill": {
     "duration": 0.102932,
     "end_time": "2020-10-16T15:27:21.806729",
     "exception": false,
     "start_time": "2020-10-16T15:27:21.703797",
     "status": "completed"
    },
    "tags": []
   },
   "source": [
    "## Adaptive Boosting "
   ]
  },
  {
   "cell_type": "code",
   "execution_count": 48,
   "metadata": {
    "execution": {
     "iopub.execute_input": "2020-10-16T15:27:22.021765Z",
     "iopub.status.busy": "2020-10-16T15:27:22.020754Z",
     "iopub.status.idle": "2020-10-16T15:27:22.405793Z",
     "shell.execute_reply": "2020-10-16T15:27:22.406342Z"
    },
    "papermill": {
     "duration": 0.496912,
     "end_time": "2020-10-16T15:27:22.406504",
     "exception": false,
     "start_time": "2020-10-16T15:27:21.909592",
     "status": "completed"
    },
    "tags": []
   },
   "outputs": [
    {
     "data": {
      "text/plain": [
       "AdaBoostClassifier()"
      ]
     },
     "execution_count": 48,
     "metadata": {},
     "output_type": "execute_result"
    }
   ],
   "source": [
    "from sklearn.ensemble import AdaBoostClassifier\n",
    "X = images\n",
    "y = np.array(df['target'])\n",
    "classifier_ab = AdaBoostClassifier()\n",
    "classifier_ab.fit(X,y)"
   ]
  },
  {
   "cell_type": "markdown",
   "metadata": {
    "papermill": {
     "duration": 0.103731,
     "end_time": "2020-10-16T15:27:22.614572",
     "exception": false,
     "start_time": "2020-10-16T15:27:22.510841",
     "status": "completed"
    },
    "tags": []
   },
   "source": [
    "## Gradient Boosting"
   ]
  },
  {
   "cell_type": "code",
   "execution_count": 49,
   "metadata": {
    "execution": {
     "iopub.execute_input": "2020-10-16T15:27:22.829730Z",
     "iopub.status.busy": "2020-10-16T15:27:22.828220Z",
     "iopub.status.idle": "2020-10-16T15:27:24.323404Z",
     "shell.execute_reply": "2020-10-16T15:27:24.323942Z"
    },
    "papermill": {
     "duration": 1.605577,
     "end_time": "2020-10-16T15:27:24.324103",
     "exception": false,
     "start_time": "2020-10-16T15:27:22.718526",
     "status": "completed"
    },
    "tags": []
   },
   "outputs": [
    {
     "data": {
      "text/plain": [
       "GradientBoostingClassifier()"
      ]
     },
     "execution_count": 49,
     "metadata": {},
     "output_type": "execute_result"
    }
   ],
   "source": [
    "from sklearn.ensemble import GradientBoostingClassifier\n",
    "X = images\n",
    "y = np.array(df['target'])\n",
    "classifier_gb = GradientBoostingClassifier()\n",
    "classifier_gb.fit(X,y)"
   ]
  },
  {
   "cell_type": "markdown",
   "metadata": {
    "papermill": {
     "duration": 0.106227,
     "end_time": "2020-10-16T15:27:24.536296",
     "exception": false,
     "start_time": "2020-10-16T15:27:24.430069",
     "status": "completed"
    },
    "tags": []
   },
   "source": [
    "# Testing the Model"
   ]
  },
  {
   "cell_type": "code",
   "execution_count": 50,
   "metadata": {
    "execution": {
     "iopub.execute_input": "2020-10-16T15:27:24.766105Z",
     "iopub.status.busy": "2020-10-16T15:27:24.765103Z",
     "iopub.status.idle": "2020-10-16T15:27:24.769608Z",
     "shell.execute_reply": "2020-10-16T15:27:24.769044Z"
    },
    "papermill": {
     "duration": 0.129185,
     "end_time": "2020-10-16T15:27:24.769733",
     "exception": false,
     "start_time": "2020-10-16T15:27:24.640548",
     "status": "completed"
    },
    "tags": []
   },
   "outputs": [
    {
     "data": {
      "text/html": [
       "<div>\n",
       "<style scoped>\n",
       "    .dataframe tbody tr th:only-of-type {\n",
       "        vertical-align: middle;\n",
       "    }\n",
       "\n",
       "    .dataframe tbody tr th {\n",
       "        vertical-align: top;\n",
       "    }\n",
       "\n",
       "    .dataframe thead th {\n",
       "        text-align: right;\n",
       "    }\n",
       "</style>\n",
       "<table border=\"1\" class=\"dataframe\">\n",
       "  <thead>\n",
       "    <tr style=\"text-align: right;\">\n",
       "      <th></th>\n",
       "      <th>image_name</th>\n",
       "      <th>age_approx</th>\n",
       "      <th>target</th>\n",
       "      <th>sex_male</th>\n",
       "      <th>site_lower extremity</th>\n",
       "      <th>site_oral/genital</th>\n",
       "      <th>site_palms/soles</th>\n",
       "      <th>site_torso</th>\n",
       "      <th>site_upper extremity</th>\n",
       "      <th>diagnosis_cafe-au-lait macule</th>\n",
       "      <th>diagnosis_lentigo NOS</th>\n",
       "      <th>diagnosis_lichenoid keratosis</th>\n",
       "      <th>diagnosis_melanoma</th>\n",
       "      <th>diagnosis_nevus</th>\n",
       "      <th>diagnosis_seborrheic keratosis</th>\n",
       "      <th>diagnosis_solar lentigo</th>\n",
       "    </tr>\n",
       "  </thead>\n",
       "  <tbody>\n",
       "    <tr>\n",
       "      <th>20065</th>\n",
       "      <td>ISIC_6096306</td>\n",
       "      <td>50.0</td>\n",
       "      <td>0</td>\n",
       "      <td>1</td>\n",
       "      <td>0</td>\n",
       "      <td>0</td>\n",
       "      <td>0</td>\n",
       "      <td>1</td>\n",
       "      <td>0</td>\n",
       "      <td>0</td>\n",
       "      <td>0</td>\n",
       "      <td>0</td>\n",
       "      <td>0</td>\n",
       "      <td>1</td>\n",
       "      <td>0</td>\n",
       "      <td>0</td>\n",
       "    </tr>\n",
       "    <tr>\n",
       "      <th>20775</th>\n",
       "      <td>ISIC_6313487</td>\n",
       "      <td>70.0</td>\n",
       "      <td>1</td>\n",
       "      <td>1</td>\n",
       "      <td>0</td>\n",
       "      <td>0</td>\n",
       "      <td>0</td>\n",
       "      <td>1</td>\n",
       "      <td>0</td>\n",
       "      <td>0</td>\n",
       "      <td>0</td>\n",
       "      <td>0</td>\n",
       "      <td>1</td>\n",
       "      <td>0</td>\n",
       "      <td>0</td>\n",
       "      <td>0</td>\n",
       "    </tr>\n",
       "    <tr>\n",
       "      <th>21139</th>\n",
       "      <td>ISIC_6417037</td>\n",
       "      <td>30.0</td>\n",
       "      <td>0</td>\n",
       "      <td>0</td>\n",
       "      <td>0</td>\n",
       "      <td>0</td>\n",
       "      <td>0</td>\n",
       "      <td>0</td>\n",
       "      <td>0</td>\n",
       "      <td>0</td>\n",
       "      <td>0</td>\n",
       "      <td>0</td>\n",
       "      <td>0</td>\n",
       "      <td>0</td>\n",
       "      <td>0</td>\n",
       "      <td>0</td>\n",
       "    </tr>\n",
       "    <tr>\n",
       "      <th>21407</th>\n",
       "      <td>ISIC_6496251</td>\n",
       "      <td>35.0</td>\n",
       "      <td>1</td>\n",
       "      <td>0</td>\n",
       "      <td>0</td>\n",
       "      <td>0</td>\n",
       "      <td>0</td>\n",
       "      <td>0</td>\n",
       "      <td>1</td>\n",
       "      <td>0</td>\n",
       "      <td>0</td>\n",
       "      <td>0</td>\n",
       "      <td>1</td>\n",
       "      <td>0</td>\n",
       "      <td>0</td>\n",
       "      <td>0</td>\n",
       "    </tr>\n",
       "    <tr>\n",
       "      <th>21504</th>\n",
       "      <td>ISIC_6526489</td>\n",
       "      <td>50.0</td>\n",
       "      <td>1</td>\n",
       "      <td>1</td>\n",
       "      <td>0</td>\n",
       "      <td>0</td>\n",
       "      <td>0</td>\n",
       "      <td>1</td>\n",
       "      <td>0</td>\n",
       "      <td>0</td>\n",
       "      <td>0</td>\n",
       "      <td>0</td>\n",
       "      <td>1</td>\n",
       "      <td>0</td>\n",
       "      <td>0</td>\n",
       "      <td>0</td>\n",
       "    </tr>\n",
       "  </tbody>\n",
       "</table>\n",
       "</div>"
      ],
      "text/plain": [
       "         image_name  age_approx  target  sex_male  site_lower extremity  \\\n",
       "20065  ISIC_6096306        50.0       0         1                     0   \n",
       "20775  ISIC_6313487        70.0       1         1                     0   \n",
       "21139  ISIC_6417037        30.0       0         0                     0   \n",
       "21407  ISIC_6496251        35.0       1         0                     0   \n",
       "21504  ISIC_6526489        50.0       1         1                     0   \n",
       "\n",
       "       site_oral/genital  site_palms/soles  site_torso  site_upper extremity  \\\n",
       "20065                  0                 0           1                     0   \n",
       "20775                  0                 0           1                     0   \n",
       "21139                  0                 0           0                     0   \n",
       "21407                  0                 0           0                     1   \n",
       "21504                  0                 0           1                     0   \n",
       "\n",
       "       diagnosis_cafe-au-lait macule  diagnosis_lentigo NOS  \\\n",
       "20065                              0                      0   \n",
       "20775                              0                      0   \n",
       "21139                              0                      0   \n",
       "21407                              0                      0   \n",
       "21504                              0                      0   \n",
       "\n",
       "       diagnosis_lichenoid keratosis  diagnosis_melanoma  diagnosis_nevus  \\\n",
       "20065                              0                   0                1   \n",
       "20775                              0                   1                0   \n",
       "21139                              0                   0                0   \n",
       "21407                              0                   1                0   \n",
       "21504                              0                   1                0   \n",
       "\n",
       "       diagnosis_seborrheic keratosis  diagnosis_solar lentigo  \n",
       "20065                               0                        0  \n",
       "20775                               0                        0  \n",
       "21139                               0                        0  \n",
       "21407                               0                        0  \n",
       "21504                               0                        0  "
      ]
     },
     "execution_count": 50,
     "metadata": {},
     "output_type": "execute_result"
    }
   ],
   "source": [
    "test = df.tail(50)\n",
    "test.head()"
   ]
  },
  {
   "cell_type": "code",
   "execution_count": 51,
   "metadata": {
    "execution": {
     "iopub.execute_input": "2020-10-16T15:27:24.988523Z",
     "iopub.status.busy": "2020-10-16T15:27:24.987749Z",
     "iopub.status.idle": "2020-10-16T15:27:35.134318Z",
     "shell.execute_reply": "2020-10-16T15:27:35.133673Z"
    },
    "papermill": {
     "duration": 10.259233,
     "end_time": "2020-10-16T15:27:35.134451",
     "exception": false,
     "start_time": "2020-10-16T15:27:24.875218",
     "status": "completed"
    },
    "tags": []
   },
   "outputs": [],
   "source": [
    "test_images = []\n",
    "for x in test['image_name']:\n",
    "    image = '/kaggle/input/siim-isic-melanoma-classification/train/' + x +'.dcm'\n",
    "    ds = dicom.dcmread(image)\n",
    "    pixels = ds.pixel_array\n",
    "    \n",
    "    test_images.append(pixels.flatten())\n"
   ]
  },
  {
   "cell_type": "code",
   "execution_count": 52,
   "metadata": {
    "execution": {
     "iopub.execute_input": "2020-10-16T15:27:35.354575Z",
     "iopub.status.busy": "2020-10-16T15:27:35.353502Z",
     "iopub.status.idle": "2020-10-16T15:27:35.361527Z",
     "shell.execute_reply": "2020-10-16T15:27:35.360778Z"
    },
    "papermill": {
     "duration": 0.120764,
     "end_time": "2020-10-16T15:27:35.361648",
     "exception": false,
     "start_time": "2020-10-16T15:27:35.240884",
     "status": "completed"
    },
    "tags": []
   },
   "outputs": [],
   "source": [
    "test_images = tf.keras.preprocessing.sequence.pad_sequences(\n",
    "  test_images,\n",
    "  maxlen = 720,\n",
    "  dtype = \"int32\",\n",
    "  padding = \"pre\",\n",
    "  truncating = \"pre\",\n",
    "  value = 0\n",
    ")"
   ]
  },
  {
   "cell_type": "markdown",
   "metadata": {
    "papermill": {
     "duration": 0.106368,
     "end_time": "2020-10-16T15:27:35.574911",
     "exception": false,
     "start_time": "2020-10-16T15:27:35.468543",
     "status": "completed"
    },
    "tags": []
   },
   "source": [
    "## Logistic Regression"
   ]
  },
  {
   "cell_type": "code",
   "execution_count": 53,
   "metadata": {
    "execution": {
     "iopub.execute_input": "2020-10-16T15:27:35.793319Z",
     "iopub.status.busy": "2020-10-16T15:27:35.792468Z",
     "iopub.status.idle": "2020-10-16T15:27:35.795291Z",
     "shell.execute_reply": "2020-10-16T15:27:35.795962Z"
    },
    "papermill": {
     "duration": 0.115438,
     "end_time": "2020-10-16T15:27:35.796131",
     "exception": false,
     "start_time": "2020-10-16T15:27:35.680693",
     "status": "completed"
    },
    "tags": []
   },
   "outputs": [],
   "source": [
    "X_test = test_images\n",
    "y_test = np.array(test['target'])\n",
    "y_pred_lr = classifier_lr.predict(X_test)"
   ]
  },
  {
   "cell_type": "code",
   "execution_count": 54,
   "metadata": {
    "execution": {
     "iopub.execute_input": "2020-10-16T15:27:36.023763Z",
     "iopub.status.busy": "2020-10-16T15:27:36.022644Z",
     "iopub.status.idle": "2020-10-16T15:27:36.027180Z",
     "shell.execute_reply": "2020-10-16T15:27:36.026238Z"
    },
    "papermill": {
     "duration": 0.121773,
     "end_time": "2020-10-16T15:27:36.027313",
     "exception": false,
     "start_time": "2020-10-16T15:27:35.905540",
     "status": "completed"
    },
    "tags": []
   },
   "outputs": [
    {
     "name": "stdout",
     "output_type": "stream",
     "text": [
      "Accuracy Score:  0.98\n",
      "Confusion Matrix: \n",
      " [[23  0]\n",
      " [ 1 26]]\n"
     ]
    }
   ],
   "source": [
    "print('Accuracy Score: ',accuracy_score(y_test,y_pred_lr))\n",
    "print('Confusion Matrix: \\n',confusion_matrix(y_test,y_pred_lr))"
   ]
  },
  {
   "cell_type": "markdown",
   "metadata": {
    "papermill": {
     "duration": 0.107088,
     "end_time": "2020-10-16T15:27:36.241925",
     "exception": false,
     "start_time": "2020-10-16T15:27:36.134837",
     "status": "completed"
    },
    "tags": []
   },
   "source": [
    "## Support Vector Machine"
   ]
  },
  {
   "cell_type": "code",
   "execution_count": 55,
   "metadata": {
    "execution": {
     "iopub.execute_input": "2020-10-16T15:27:36.461507Z",
     "iopub.status.busy": "2020-10-16T15:27:36.460454Z",
     "iopub.status.idle": "2020-10-16T15:27:36.469125Z",
     "shell.execute_reply": "2020-10-16T15:27:36.468386Z"
    },
    "papermill": {
     "duration": 0.120872,
     "end_time": "2020-10-16T15:27:36.469251",
     "exception": false,
     "start_time": "2020-10-16T15:27:36.348379",
     "status": "completed"
    },
    "tags": []
   },
   "outputs": [],
   "source": [
    "X_test = test_images\n",
    "y_test = np.array(test['target'])\n",
    "y_pred_svm = classifier_svm.predict(X_test)"
   ]
  },
  {
   "cell_type": "code",
   "execution_count": 56,
   "metadata": {
    "execution": {
     "iopub.execute_input": "2020-10-16T15:27:36.690085Z",
     "iopub.status.busy": "2020-10-16T15:27:36.688722Z",
     "iopub.status.idle": "2020-10-16T15:27:36.694959Z",
     "shell.execute_reply": "2020-10-16T15:27:36.694150Z"
    },
    "papermill": {
     "duration": 0.118543,
     "end_time": "2020-10-16T15:27:36.695114",
     "exception": false,
     "start_time": "2020-10-16T15:27:36.576571",
     "status": "completed"
    },
    "tags": []
   },
   "outputs": [
    {
     "name": "stdout",
     "output_type": "stream",
     "text": [
      "Accuracy Score:  0.76\n",
      "Confusion Matrix: \n",
      " [[16  7]\n",
      " [ 5 22]]\n"
     ]
    }
   ],
   "source": [
    "print('Accuracy Score: ',accuracy_score(y_test,y_pred_svm))\n",
    "print('Confusion Matrix: \\n',confusion_matrix(y_test,y_pred_svm))"
   ]
  },
  {
   "cell_type": "markdown",
   "metadata": {
    "papermill": {
     "duration": 0.106941,
     "end_time": "2020-10-16T15:27:36.910727",
     "exception": false,
     "start_time": "2020-10-16T15:27:36.803786",
     "status": "completed"
    },
    "tags": []
   },
   "source": [
    "## Decision Tree"
   ]
  },
  {
   "cell_type": "code",
   "execution_count": 57,
   "metadata": {
    "execution": {
     "iopub.execute_input": "2020-10-16T15:27:37.162140Z",
     "iopub.status.busy": "2020-10-16T15:27:37.161368Z",
     "iopub.status.idle": "2020-10-16T15:27:37.165302Z",
     "shell.execute_reply": "2020-10-16T15:27:37.164702Z"
    },
    "papermill": {
     "duration": 0.136436,
     "end_time": "2020-10-16T15:27:37.165427",
     "exception": false,
     "start_time": "2020-10-16T15:27:37.028991",
     "status": "completed"
    },
    "tags": []
   },
   "outputs": [],
   "source": [
    "X_test = test_images\n",
    "y_test = np.array(test['target'])\n",
    "y_pred_dt = classifier_dt.predict(X_test)"
   ]
  },
  {
   "cell_type": "code",
   "execution_count": 58,
   "metadata": {
    "execution": {
     "iopub.execute_input": "2020-10-16T15:27:37.388414Z",
     "iopub.status.busy": "2020-10-16T15:27:37.387188Z",
     "iopub.status.idle": "2020-10-16T15:27:37.393679Z",
     "shell.execute_reply": "2020-10-16T15:27:37.393085Z"
    },
    "papermill": {
     "duration": 0.120045,
     "end_time": "2020-10-16T15:27:37.393798",
     "exception": false,
     "start_time": "2020-10-16T15:27:37.273753",
     "status": "completed"
    },
    "tags": []
   },
   "outputs": [
    {
     "name": "stdout",
     "output_type": "stream",
     "text": [
      "Accuracy Score:  1.0\n",
      "Confusion Matrix: \n",
      " [[23  0]\n",
      " [ 0 27]]\n"
     ]
    }
   ],
   "source": [
    "print('Accuracy Score: ',accuracy_score(y_test,y_pred_dt))\n",
    "print('Confusion Matrix: \\n',confusion_matrix(y_test,y_pred_dt))"
   ]
  },
  {
   "cell_type": "markdown",
   "metadata": {
    "papermill": {
     "duration": 0.108897,
     "end_time": "2020-10-16T15:27:37.610999",
     "exception": false,
     "start_time": "2020-10-16T15:27:37.502102",
     "status": "completed"
    },
    "tags": []
   },
   "source": [
    "## Random Forest"
   ]
  },
  {
   "cell_type": "code",
   "execution_count": 59,
   "metadata": {
    "execution": {
     "iopub.execute_input": "2020-10-16T15:27:37.850232Z",
     "iopub.status.busy": "2020-10-16T15:27:37.832389Z",
     "iopub.status.idle": "2020-10-16T15:27:37.853787Z",
     "shell.execute_reply": "2020-10-16T15:27:37.853097Z"
    },
    "papermill": {
     "duration": 0.134487,
     "end_time": "2020-10-16T15:27:37.853920",
     "exception": false,
     "start_time": "2020-10-16T15:27:37.719433",
     "status": "completed"
    },
    "tags": []
   },
   "outputs": [],
   "source": [
    "X_test = test_images\n",
    "y_test = np.array(test['target'])\n",
    "y_pred_rf = classifier_rf.predict(X_test)"
   ]
  },
  {
   "cell_type": "code",
   "execution_count": 60,
   "metadata": {
    "execution": {
     "iopub.execute_input": "2020-10-16T15:27:38.085181Z",
     "iopub.status.busy": "2020-10-16T15:27:38.084112Z",
     "iopub.status.idle": "2020-10-16T15:27:38.088425Z",
     "shell.execute_reply": "2020-10-16T15:27:38.087825Z"
    },
    "papermill": {
     "duration": 0.124062,
     "end_time": "2020-10-16T15:27:38.088549",
     "exception": false,
     "start_time": "2020-10-16T15:27:37.964487",
     "status": "completed"
    },
    "tags": []
   },
   "outputs": [
    {
     "name": "stdout",
     "output_type": "stream",
     "text": [
      "Accuracy Score:  1.0\n",
      "Confusion Matrix: \n",
      " [[23  0]\n",
      " [ 0 27]]\n"
     ]
    }
   ],
   "source": [
    "print('Accuracy Score: ',accuracy_score(y_test,y_pred_rf))\n",
    "print('Confusion Matrix: \\n',confusion_matrix(y_test,y_pred_rf))"
   ]
  },
  {
   "cell_type": "markdown",
   "metadata": {
    "papermill": {
     "duration": 0.109805,
     "end_time": "2020-10-16T15:27:38.307558",
     "exception": false,
     "start_time": "2020-10-16T15:27:38.197753",
     "status": "completed"
    },
    "tags": []
   },
   "source": [
    "## Adaptive Boosting"
   ]
  },
  {
   "cell_type": "code",
   "execution_count": 61,
   "metadata": {
    "execution": {
     "iopub.execute_input": "2020-10-16T15:27:38.534750Z",
     "iopub.status.busy": "2020-10-16T15:27:38.533475Z",
     "iopub.status.idle": "2020-10-16T15:27:38.550207Z",
     "shell.execute_reply": "2020-10-16T15:27:38.549497Z"
    },
    "papermill": {
     "duration": 0.132038,
     "end_time": "2020-10-16T15:27:38.550336",
     "exception": false,
     "start_time": "2020-10-16T15:27:38.418298",
     "status": "completed"
    },
    "tags": []
   },
   "outputs": [],
   "source": [
    "X_test = test_images\n",
    "y_test = np.array(test['target'])\n",
    "y_pred_ab = classifier_ab.predict(X_test)"
   ]
  },
  {
   "cell_type": "code",
   "execution_count": 62,
   "metadata": {
    "execution": {
     "iopub.execute_input": "2020-10-16T15:27:38.777720Z",
     "iopub.status.busy": "2020-10-16T15:27:38.776603Z",
     "iopub.status.idle": "2020-10-16T15:27:38.783024Z",
     "shell.execute_reply": "2020-10-16T15:27:38.782304Z"
    },
    "papermill": {
     "duration": 0.122706,
     "end_time": "2020-10-16T15:27:38.783147",
     "exception": false,
     "start_time": "2020-10-16T15:27:38.660441",
     "status": "completed"
    },
    "tags": []
   },
   "outputs": [
    {
     "name": "stdout",
     "output_type": "stream",
     "text": [
      "Accuracy Score:  1.0\n",
      "Confusion Matrix: \n",
      " [[23  0]\n",
      " [ 0 27]]\n"
     ]
    }
   ],
   "source": [
    "print('Accuracy Score: ',accuracy_score(y_test,y_pred_ab))\n",
    "print('Confusion Matrix: \\n',confusion_matrix(y_test,y_pred_ab))"
   ]
  },
  {
   "cell_type": "markdown",
   "metadata": {
    "papermill": {
     "duration": 0.110124,
     "end_time": "2020-10-16T15:27:39.003276",
     "exception": false,
     "start_time": "2020-10-16T15:27:38.893152",
     "status": "completed"
    },
    "tags": []
   },
   "source": [
    "## Gradient Boosting"
   ]
  },
  {
   "cell_type": "code",
   "execution_count": 63,
   "metadata": {
    "execution": {
     "iopub.execute_input": "2020-10-16T15:27:39.230796Z",
     "iopub.status.busy": "2020-10-16T15:27:39.229837Z",
     "iopub.status.idle": "2020-10-16T15:27:39.234495Z",
     "shell.execute_reply": "2020-10-16T15:27:39.233769Z"
    },
    "papermill": {
     "duration": 0.120198,
     "end_time": "2020-10-16T15:27:39.234620",
     "exception": false,
     "start_time": "2020-10-16T15:27:39.114422",
     "status": "completed"
    },
    "tags": []
   },
   "outputs": [],
   "source": [
    "X_test = test_images\n",
    "y_test = np.array(test['target'])\n",
    "y_pred_gb = classifier_gb.predict(X_test)"
   ]
  },
  {
   "cell_type": "code",
   "execution_count": 64,
   "metadata": {
    "execution": {
     "iopub.execute_input": "2020-10-16T15:27:39.463119Z",
     "iopub.status.busy": "2020-10-16T15:27:39.462076Z",
     "iopub.status.idle": "2020-10-16T15:27:39.468013Z",
     "shell.execute_reply": "2020-10-16T15:27:39.468601Z"
    },
    "papermill": {
     "duration": 0.123488,
     "end_time": "2020-10-16T15:27:39.468749",
     "exception": false,
     "start_time": "2020-10-16T15:27:39.345261",
     "status": "completed"
    },
    "tags": []
   },
   "outputs": [
    {
     "name": "stdout",
     "output_type": "stream",
     "text": [
      "Accuracy Score:  1.0\n",
      "Confusion Matrix: \n",
      " [[23  0]\n",
      " [ 0 27]]\n"
     ]
    }
   ],
   "source": [
    "print('Accuracy Score: ',accuracy_score(y_test,y_pred_gb))\n",
    "print('Confusion Matrix: \\n',confusion_matrix(y_test,y_pred_gb))"
   ]
  },
  {
   "cell_type": "code",
   "execution_count": 65,
   "metadata": {
    "execution": {
     "iopub.execute_input": "2020-10-16T15:27:39.723759Z",
     "iopub.status.busy": "2020-10-16T15:27:39.722852Z",
     "iopub.status.idle": "2020-10-16T15:27:39.866706Z",
     "shell.execute_reply": "2020-10-16T15:27:39.867267Z"
    },
    "papermill": {
     "duration": 0.287771,
     "end_time": "2020-10-16T15:27:39.867427",
     "exception": false,
     "start_time": "2020-10-16T15:27:39.579656",
     "status": "completed"
    },
    "tags": []
   },
   "outputs": [
    {
     "data": {
      "text/plain": [
       "<matplotlib.axes._subplots.AxesSubplot at 0x7fc086c62ed0>"
      ]
     },
     "execution_count": 65,
     "metadata": {},
     "output_type": "execute_result"
    },
    {
     "data": {
      "image/png": "[encoded data removed]",
      "text/plain": [
       "<Figure size 432x288 with 1 Axes>"
      ]
     },
     "metadata": {
      "needs_background": "light"
     },
     "output_type": "display_data"
    }
   ],
   "source": [
    "x_l = ['Logistic Regression', 'Support Vector Machine', 'Decison Tree', 'Random Forest', 'Adaptive Boosting', 'Gradient Boosting']\n",
    "y_l = [0.96, 0.68, 1.0, 1.0, 1.0, 1.0]\n",
    "\n",
    "sns.barplot(y_l, x_l,palette=\"mako\")"
   ]
  },
  {
   "cell_type": "code",
   "execution_count": 66,
   "metadata": {
    "execution": {
     "iopub.execute_input": "2020-10-16T15:27:40.098250Z",
     "iopub.status.busy": "2020-10-16T15:27:40.097254Z",
     "iopub.status.idle": "2020-10-16T15:27:40.151196Z",
     "shell.execute_reply": "2020-10-16T15:27:40.150566Z"
    },
    "papermill": {
     "duration": 0.171964,
     "end_time": "2020-10-16T15:27:40.151317",
     "exception": false,
     "start_time": "2020-10-16T15:27:39.979353",
     "status": "completed"
    },
    "tags": []
   },
   "outputs": [
    {
     "name": "stderr",
     "output_type": "stream",
     "text": [
      "/opt/conda/lib/python3.7/site-packages/sklearn/linear_model/_logistic.py:764: ConvergenceWarning: lbfgs failed to converge (status=1):\n",
      "STOP: TOTAL NO. of ITERATIONS REACHED LIMIT.\n",
      "\n",
      "Increase the number of iterations (max_iter) or scale the data as shown in:\n",
      "    https://scikit-learn.org/stable/modules/preprocessing.html\n",
      "Please also refer to the documentation for alternative solver options:\n",
      "    https://scikit-learn.org/stable/modules/linear_model.html#logistic-regression\n",
      "  extra_warning_msg=_LOGISTIC_SOLVER_CONVERGENCE_MSG)\n"
     ]
    },
    {
     "data": {
      "text/plain": [
       "LogisticRegression()"
      ]
     },
     "execution_count": 66,
     "metadata": {},
     "output_type": "execute_result"
    }
   ],
   "source": [
    "train2 = LogisticRegression()\n",
    "train2.fit(X,y)"
   ]
  },
  {
   "cell_type": "code",
   "execution_count": 67,
   "metadata": {
    "execution": {
     "iopub.execute_input": "2020-10-16T15:27:40.404113Z",
     "iopub.status.busy": "2020-10-16T15:27:40.403048Z",
     "iopub.status.idle": "2020-10-16T15:27:40.407264Z",
     "shell.execute_reply": "2020-10-16T15:27:40.407774Z"
    },
    "papermill": {
     "duration": 0.142629,
     "end_time": "2020-10-16T15:27:40.407944",
     "exception": false,
     "start_time": "2020-10-16T15:27:40.265315",
     "status": "completed"
    },
    "tags": []
   },
   "outputs": [
    {
     "data": {
      "text/html": [
       "<div>\n",
       "<style scoped>\n",
       "    .dataframe tbody tr th:only-of-type {\n",
       "        vertical-align: middle;\n",
       "    }\n",
       "\n",
       "    .dataframe tbody tr th {\n",
       "        vertical-align: top;\n",
       "    }\n",
       "\n",
       "    .dataframe thead th {\n",
       "        text-align: right;\n",
       "    }\n",
       "</style>\n",
       "<table border=\"1\" class=\"dataframe\">\n",
       "  <thead>\n",
       "    <tr style=\"text-align: right;\">\n",
       "      <th></th>\n",
       "      <th>image_name</th>\n",
       "      <th>age_approx</th>\n",
       "      <th>target</th>\n",
       "      <th>sex_male</th>\n",
       "      <th>site_lower extremity</th>\n",
       "      <th>site_oral/genital</th>\n",
       "      <th>site_palms/soles</th>\n",
       "      <th>site_torso</th>\n",
       "      <th>site_upper extremity</th>\n",
       "      <th>diagnosis_cafe-au-lait macule</th>\n",
       "      <th>diagnosis_lentigo NOS</th>\n",
       "      <th>diagnosis_lichenoid keratosis</th>\n",
       "      <th>diagnosis_melanoma</th>\n",
       "      <th>diagnosis_nevus</th>\n",
       "      <th>diagnosis_seborrheic keratosis</th>\n",
       "      <th>diagnosis_solar lentigo</th>\n",
       "    </tr>\n",
       "  </thead>\n",
       "  <tbody>\n",
       "    <tr>\n",
       "      <th>91</th>\n",
       "      <td>ISIC_0149568</td>\n",
       "      <td>55.0</td>\n",
       "      <td>1</td>\n",
       "      <td>0</td>\n",
       "      <td>0</td>\n",
       "      <td>0</td>\n",
       "      <td>0</td>\n",
       "      <td>0</td>\n",
       "      <td>1</td>\n",
       "      <td>0</td>\n",
       "      <td>0</td>\n",
       "      <td>0</td>\n",
       "      <td>1</td>\n",
       "      <td>0</td>\n",
       "      <td>0</td>\n",
       "      <td>0</td>\n",
       "    </tr>\n",
       "    <tr>\n",
       "      <th>273</th>\n",
       "      <td>ISIC_0198331</td>\n",
       "      <td>55.0</td>\n",
       "      <td>0</td>\n",
       "      <td>0</td>\n",
       "      <td>0</td>\n",
       "      <td>0</td>\n",
       "      <td>0</td>\n",
       "      <td>1</td>\n",
       "      <td>0</td>\n",
       "      <td>0</td>\n",
       "      <td>0</td>\n",
       "      <td>0</td>\n",
       "      <td>0</td>\n",
       "      <td>0</td>\n",
       "      <td>0</td>\n",
       "      <td>0</td>\n",
       "    </tr>\n",
       "    <tr>\n",
       "      <th>867</th>\n",
       "      <td>ISIC_0362190</td>\n",
       "      <td>45.0</td>\n",
       "      <td>0</td>\n",
       "      <td>1</td>\n",
       "      <td>0</td>\n",
       "      <td>0</td>\n",
       "      <td>0</td>\n",
       "      <td>1</td>\n",
       "      <td>0</td>\n",
       "      <td>0</td>\n",
       "      <td>0</td>\n",
       "      <td>0</td>\n",
       "      <td>0</td>\n",
       "      <td>0</td>\n",
       "      <td>0</td>\n",
       "      <td>0</td>\n",
       "    </tr>\n",
       "    <tr>\n",
       "      <th>1288</th>\n",
       "      <td>ISIC_0489267</td>\n",
       "      <td>60.0</td>\n",
       "      <td>1</td>\n",
       "      <td>0</td>\n",
       "      <td>1</td>\n",
       "      <td>0</td>\n",
       "      <td>0</td>\n",
       "      <td>0</td>\n",
       "      <td>0</td>\n",
       "      <td>0</td>\n",
       "      <td>0</td>\n",
       "      <td>0</td>\n",
       "      <td>1</td>\n",
       "      <td>0</td>\n",
       "      <td>0</td>\n",
       "      <td>0</td>\n",
       "    </tr>\n",
       "    <tr>\n",
       "      <th>1345</th>\n",
       "      <td>ISIC_0507787</td>\n",
       "      <td>60.0</td>\n",
       "      <td>0</td>\n",
       "      <td>0</td>\n",
       "      <td>0</td>\n",
       "      <td>0</td>\n",
       "      <td>0</td>\n",
       "      <td>1</td>\n",
       "      <td>0</td>\n",
       "      <td>0</td>\n",
       "      <td>0</td>\n",
       "      <td>0</td>\n",
       "      <td>0</td>\n",
       "      <td>0</td>\n",
       "      <td>0</td>\n",
       "      <td>0</td>\n",
       "    </tr>\n",
       "  </tbody>\n",
       "</table>\n",
       "</div>"
      ],
      "text/plain": [
       "        image_name  age_approx  target  sex_male  site_lower extremity  \\\n",
       "91    ISIC_0149568        55.0       1         0                     0   \n",
       "273   ISIC_0198331        55.0       0         0                     0   \n",
       "867   ISIC_0362190        45.0       0         1                     0   \n",
       "1288  ISIC_0489267        60.0       1         0                     1   \n",
       "1345  ISIC_0507787        60.0       0         0                     0   \n",
       "\n",
       "      site_oral/genital  site_palms/soles  site_torso  site_upper extremity  \\\n",
       "91                    0                 0           0                     1   \n",
       "273                   0                 0           1                     0   \n",
       "867                   0                 0           1                     0   \n",
       "1288                  0                 0           0                     0   \n",
       "1345                  0                 0           1                     0   \n",
       "\n",
       "      diagnosis_cafe-au-lait macule  diagnosis_lentigo NOS  \\\n",
       "91                                0                      0   \n",
       "273                               0                      0   \n",
       "867                               0                      0   \n",
       "1288                              0                      0   \n",
       "1345                              0                      0   \n",
       "\n",
       "      diagnosis_lichenoid keratosis  diagnosis_melanoma  diagnosis_nevus  \\\n",
       "91                                0                   1                0   \n",
       "273                               0                   0                0   \n",
       "867                               0                   0                0   \n",
       "1288                              0                   1                0   \n",
       "1345                              0                   0                0   \n",
       "\n",
       "      diagnosis_seborrheic keratosis  diagnosis_solar lentigo  \n",
       "91                                 0                        0  \n",
       "273                                0                        0  \n",
       "867                                0                        0  \n",
       "1288                               0                        0  \n",
       "1345                               0                        0  "
      ]
     },
     "execution_count": 67,
     "metadata": {},
     "output_type": "execute_result"
    }
   ],
   "source": [
    "df.head()"
   ]
  },
  {
   "cell_type": "markdown",
   "metadata": {
    "papermill": {
     "duration": 0.114495,
     "end_time": "2020-10-16T15:27:40.637024",
     "exception": false,
     "start_time": "2020-10-16T15:27:40.522529",
     "status": "completed"
    },
    "tags": []
   },
   "source": [
    "# Final Testing"
   ]
  },
  {
   "cell_type": "code",
   "execution_count": 68,
   "metadata": {
    "execution": {
     "iopub.execute_input": "2020-10-16T15:27:40.876462Z",
     "iopub.status.busy": "2020-10-16T15:27:40.875712Z",
     "iopub.status.idle": "2020-10-16T15:27:43.317197Z",
     "shell.execute_reply": "2020-10-16T15:27:43.317758Z"
    },
    "papermill": {
     "duration": 2.566675,
     "end_time": "2020-10-16T15:27:43.317932",
     "exception": false,
     "start_time": "2020-10-16T15:27:40.751257",
     "status": "completed"
    },
    "tags": []
   },
   "outputs": [
    {
     "name": "stdout",
     "output_type": "stream",
     "text": [
      "Result from patient details:  Malignant\n",
      "Result from patient image:  Malignant\n"
     ]
    },
    {
     "data": {
      "image/png": "[encoded data removed]",
      "text/plain": [
       "<Figure size 432x288 with 1 Axes>"
      ]
     },
     "metadata": {
      "needs_background": "light"
     },
     "output_type": "display_data"
    }
   ],
   "source": [
    "image_path = '/kaggle/input/siim-isic-melanoma-classification/train/ISIC_0149568.dcm'\n",
    "details = [[55,0,0,0,1,1,0]]\n",
    "image_to_test = []\n",
    "ds = dicom.dcmread(image_path)\n",
    "pixels = ds.pixel_array\n",
    "plt.imshow(pixels)\n",
    "image_to_test.append(pixels.flatten())\n",
    "\n",
    "image_to_test = tf.keras.preprocessing.sequence.pad_sequences(\n",
    "  image_to_test,\n",
    "  maxlen = 720,\n",
    "  dtype = \"int32\",\n",
    "  padding = \"pre\",\n",
    "  truncating = \"pre\",\n",
    "  value = 0\n",
    ")\n",
    "\n",
    "if train1.predict(details) == [1]:\n",
    "    \n",
    "    result1 = 'Malignant'\n",
    "else:\n",
    "    result1 = 'Benign'\n",
    "\n",
    "if train2.predict(image_to_test) == [1]:\n",
    "    result2 = 'Malignant'\n",
    "else:\n",
    "    result2 = 'Benign'\n",
    "\n",
    "\n",
    "print('Result from patient details: ', result1)\n",
    "print('Result from patient image: ', result2)"
   ]
  },
  {
   "cell_type": "markdown",
   "metadata": {
    "papermill": {
     "duration": 0.117981,
     "end_time": "2020-10-16T15:27:43.555006",
     "exception": false,
     "start_time": "2020-10-16T15:27:43.437025",
     "status": "completed"
    },
    "tags": []
   },
   "source": [
    "## END"
   ]
  }
 ],
 "metadata": {
  "kernelspec": {
   "display_name": "Python 3 (ipykernel)",
   "language": "python",
   "name": "python3"
  },
  "language_info": {
   "codemirror_mode": {
    "name": "ipython",
    "version": 3
   },
   "file_extension": ".py",
   "mimetype": "text/x-python",
   "name": "python",
   "nbconvert_exporter": "python",
   "pygments_lexer": "ipython3",
   "version": "3.9.7"
  },
  "papermill": {
   "duration": 92.247466,
   "end_time": "2020-10-16T15:27:43.782296",
   "environment_variables": {},
   "exception": null,
   "input_path": "__notebook__.ipynb",
   "output_path": "__notebook__.ipynb",
   "parameters": {},
   "start_time": "2020-10-16T15:26:11.534830",
   "version": "2.1.0"
  }
 },
 "nbformat": 4,
 "nbformat_minor": 4
}
